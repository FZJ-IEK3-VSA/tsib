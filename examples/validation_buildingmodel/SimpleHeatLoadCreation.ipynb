{
 "cells": [
  {
   "cell_type": "markdown",
   "metadata": {},
   "source": [
    "### Validation of the heat model with the Tabula Database"
   ]
  },
  {
   "cell_type": "markdown",
   "metadata": {},
   "source": [
    "Import all relevant modules"
   ]
  },
  {
   "cell_type": "code",
   "execution_count": 1,
   "metadata": {},
   "outputs": [],
   "source": [
    "import os\n",
    "import pandas as pd\n",
    "%matplotlib inline\n",
    "%load_ext autoreload\n",
    "%autoreload 2\n",
    "import tsib.timeseriesmanager as tsm\n",
    "import tsib.buildingmodel as bdg\n",
    "import tsib.buildingmanager as bm\n",
    "import tsib.buildingconfig as cfg\n",
    "import tsib.thermal.utils as utils"
   ]
  },
  {
   "cell_type": "code",
   "execution_count": 2,
   "metadata": {},
   "outputs": [],
   "source": [
    "import matplotlib.pyplot as plt"
   ]
  },
  {
   "cell_type": "code",
   "execution_count": 3,
   "metadata": {},
   "outputs": [],
   "source": [
    "%matplotlib inline\n",
    "from matplotlib import rc\n",
    "rc('font',**{'family':'sans-serif','sans-serif':['Helvetica']})"
   ]
  },
  {
   "cell_type": "code",
   "execution_count": 4,
   "metadata": {},
   "outputs": [],
   "source": [
    "import numpy as np"
   ]
  },
  {
   "cell_type": "code",
   "execution_count": 5,
   "metadata": {},
   "outputs": [],
   "source": [
    "EXPORT_PATH = os.path.join('plots')"
   ]
  },
  {
   "cell_type": "markdown",
   "metadata": {},
   "source": [
    "### Define the building"
   ]
  },
  {
   "cell_type": "markdown",
   "metadata": {},
   "source": [
    "Init building "
   ]
  },
  {
   "cell_type": "code",
   "execution_count": 6,
   "metadata": {},
   "outputs": [],
   "source": [
    "bdgcfg = cfg.BuildingConfiguration({ 'refurbishment': False, 'nightReduction': True, 'buildingYear': 2005,\n",
    "                                       'occControl': False, 'capControl': True,'n_persons': 2,\n",
    "                                       'comfortT_lb': 20.0, 'comfortT_ub': 26.0, 'roofOrientation': 0.0,\n",
    "                                       'longitude': 7., 'latitude': 54. })"
   ]
  },
  {
   "cell_type": "code",
   "execution_count": 7,
   "metadata": {
    "scrolled": true
   },
   "outputs": [
    {
     "name": "stderr",
     "output_type": "stream",
     "text": [
      "/home/leander/workspace/tsib/tsib/buildingconfig.py:517: UserWarning: No suffucient sufficient keyword arguments provided for the shape. Shape of IWU building \"DE.N.SFH.08.Gen.ReEx.001.001\" chosen.\n",
      "  warnings.warn('No suffucient sufficient keyword arguments provided for the shape. Shape of IWU building \"DE.N.SFH.08.Gen.ReEx.001.001\" chosen.')\n",
      "/home/leander/workspace/tsib/tsib/buildingconfig.py:287: UserWarning: number of app. \"n_apartments\" is inherited from IWU\n",
      "  warnings.warn('number of app. \"n_apartments\" is inherited from IWU')\n"
     ]
    }
   ],
   "source": [
    "bdgObj = bdg.Building(configurator = bdgcfg, refurbishment = False)"
   ]
  },
  {
   "cell_type": "markdown",
   "metadata": {},
   "source": [
    "## Get the load"
   ]
  },
  {
   "cell_type": "code",
   "execution_count": 8,
   "metadata": {},
   "outputs": [
    {
     "name": "stdout",
     "output_type": "stream",
     "text": [
      "Academic license - for non-commercial use only\n",
      "Changed value of parameter NodeMethod to 2\n",
      "   Prev: -1  Min: -1  Max: 2  Default: -1\n",
      "Changed value of parameter OptimalityTol to 1e-08\n",
      "   Prev: 1e-06  Min: 1e-09  Max: 0.01  Default: 1e-06\n",
      "Changed value of parameter Threads to 1\n",
      "   Prev: 0  Min: 0  Max: 1024  Default: 0\n",
      "Changed value of parameter Cuts to 0\n",
      "   Prev: -1  Min: -1  Max: 3  Default: -1\n",
      "Changed value of parameter LogFile to \n",
      "   Prev: gurobi.log  Default: \n",
      "Changed value of parameter Method to 2\n",
      "   Prev: -1  Min: -1  Max: 5  Default: -1\n",
      "Changed value of parameter IntFeasTol to 1e-09\n",
      "   Prev: 1e-05  Min: 1e-09  Max: 0.1  Default: 1e-05\n",
      "Optimize a model with 271576 rows, 122654 columns and 790226 nonzeros\n",
      "Coefficient statistics:\n",
      "  Matrix range     [1e-07, 7e+00]\n",
      "  Objective range  [2e-02, 1e+05]\n",
      "  Bounds range     [1e+00, 1e+00]\n",
      "  RHS range        [4e-04, 2e+01]\n",
      "Presolve removed 96841 rows and 228247 columns\n",
      "Presolve time: 0.47s\n",
      "Presolved: 25813 rows, 43330 columns, 93974 nonzeros\n",
      "\n",
      "Ordering time: 0.00s\n",
      "\n",
      "Barrier statistics:\n",
      " AA' NZ     : 7.148e+04\n",
      " Factor NZ  : 3.191e+05 (roughly 30 MBytes of memory)\n",
      " Factor Ops : 5.734e+06 (less than 1 second per iteration)\n",
      " Threads    : 1\n",
      "\n",
      "                  Objective                Residual\n",
      "Iter       Primal          Dual         Primal    Dual     Compl     Time\n",
      "   0  -3.25649136e+11 -2.85778774e+09  1.09e+09 6.67e+01  2.67e+07     1s\n",
      "   1  -9.05217532e+10  3.20010096e+10  1.76e+08 9.13e+00  4.35e+06     1s\n",
      "   2  -2.78239476e+09  9.34882559e+08  4.20e+06 2.27e-13  1.12e+05     1s\n",
      "   3  -8.37007994e+06  5.46729249e+07  7.78e+03 2.29e-13  1.13e+03     1s\n",
      "   4  -1.78715534e+06  9.35274161e+06  6.09e+02 3.06e-13  1.84e+02     1s\n",
      "   5  -8.70558202e+05  7.23836527e+05  7.91e+01 2.27e-13  2.61e+01     1s\n",
      "   6  -6.49058603e+05  3.11696338e+04  3.70e-04 1.72e-13  1.12e+01     1s\n",
      "   7  -5.74971137e+05  6.09199329e+05  1.81e-04 2.27e-13  1.95e+01     1s\n",
      "   8  -5.00359970e+05  2.45109917e+04  1.90e-04 2.27e-13  8.62e+00     1s\n",
      "   9  -1.05553761e+05  4.01328045e+05  3.98e-05 2.27e-13  8.33e+00     1s\n",
      "  10  -3.11007476e+04  1.02680691e+04  4.73e-04 2.27e-13  6.80e-01     1s\n",
      "  11  -3.47455656e+03  4.27077291e+03  1.24e-04 2.27e-13  1.27e-01     1s\n",
      "  12  -3.45081732e+03  4.26894981e+03  1.21e-02 2.27e-13  1.27e-01     1s\n",
      "  13  -3.42179782e+03  4.26592539e+03  1.25e-02 2.27e-13  1.27e-01     1s\n",
      "  14  -2.91500974e+03  4.09308154e+03  1.71e-02 1.63e-13  1.16e-01     1s\n",
      "  15  -2.73838268e+03  3.97335615e+03  1.66e-02 1.44e-13  1.11e-01     1s\n",
      "  16  -2.37048374e+03  3.89582391e+03  1.55e-02 1.33e-13  1.04e-01     1s\n",
      "  17  -2.36707432e+03  3.89308677e+03  1.55e-02 2.27e-13  1.04e-01     1s\n",
      "  18  -2.27639117e+03  3.85330780e+03  1.52e-02 2.27e-13  1.02e-01     1s\n",
      "  19  -2.24631845e+03  3.85135888e+03  2.47e-02 1.52e-13  1.01e-01     1s\n",
      "  20  -1.53870932e+03  3.63215965e+03  2.74e-02 1.41e-13  8.54e-02     1s\n",
      "  21  -1.53724726e+03  3.62988244e+03  2.74e-02 1.35e-13  8.53e-02     1s\n",
      "  22  -1.42866084e+03  3.55481623e+03  2.65e-02 1.50e-13  8.21e-02     1s\n",
      "  23  -1.21660766e+03  3.45962859e+03  2.53e-02 1.50e-13  7.69e-02     1s\n",
      "  24  -1.20075020e+03  3.45879888e+03  2.53e-02 1.49e-13  7.69e-02     1s\n",
      "  25  -1.18392594e+03  3.45760838e+03  2.53e-02 2.12e-13  7.68e-02     1s\n",
      "  26  -8.61892796e+02  3.37021300e+03  2.22e-02 1.39e-13  6.99e-02     1s\n",
      "  27  -5.97523678e+02  3.23747415e+03  2.17e-02 1.48e-13  6.29e-02     1s\n",
      "  28  -5.98734357e+02  3.23741879e+03  2.17e-02 1.62e-13  6.29e-02     1s\n",
      "  29  -5.68988870e+02  3.23257322e+03  2.30e-02 2.27e-13  6.24e-02     1s\n",
      "  30  -5.49551051e+02  3.23015862e+03  2.30e-02 2.27e-13  6.23e-02     1s\n",
      "  31  -5.53303892e+02  3.23098775e+03  2.30e-02 1.56e-13  6.23e-02     1s\n",
      "  32  -5.30389304e+02  3.22370555e+03  2.28e-02 1.49e-13  6.19e-02     2s\n",
      "  33  -5.22050267e+02  3.22210791e+03  2.28e-02 1.49e-13  6.18e-02     2s\n",
      "  34  -5.14998563e+02  3.22148390e+03  2.28e-02 1.63e-13  6.18e-02     2s\n",
      "  35  -5.04479008e+02  3.22119453e+03  2.29e-02 1.63e-13  6.18e-02     2s\n",
      "  36  -5.07060462e+02  3.22111886e+03  2.29e-02 1.85e-13  6.18e-02     2s\n",
      "  37  -4.96187718e+02  3.22041816e+03  2.52e-02 1.85e-13  6.17e-02     2s\n",
      "\n",
      "Barrier performed 37 iterations in 1.70 seconds\n",
      "Numerical trouble encountered\n",
      "\n",
      "Model may be infeasible or unbounded.  Consider using the\n",
      "homogeneous algorithm (through parameter 'BarHomogeneous')\n",
      "\n",
      "Iteration    Objective       Primal Inf.    Dual Inf.      Time\n",
      "       0    2.9362130e+35   8.400397e+33   2.936213e+05      2s\n",
      "   29533    3.4702540e+05   1.270518e+05   0.000000e+00      5s\n",
      "   34253    1.7693575e+03   0.000000e+00   0.000000e+00      7s\n",
      "\n",
      "Solved in 34253 iterations and 6.89 seconds\n",
      "Optimal objective  1.769357499e+03\n",
      "Freed default Gurobi environment\n"
     ]
    }
   ],
   "source": [
    "bdgObj.get_load()"
   ]
  },
  {
   "cell_type": "markdown",
   "metadata": {},
   "source": [
    "Plot"
   ]
  },
  {
   "cell_type": "code",
   "execution_count": 9,
   "metadata": {},
   "outputs": [
    {
     "data": {
      "text/plain": [
       "<matplotlib.axes._subplots.AxesSubplot at 0x7f57ac4951d0>"
      ]
     },
     "execution_count": 9,
     "metadata": {},
     "output_type": "execute_result"
    },
    {
     "name": "stderr",
     "output_type": "stream",
     "text": [
      "/home/leander/anaconda3/lib/python3.6/site-packages/matplotlib/font_manager.py:1328: UserWarning: findfont: Font family ['sans-serif'] not found. Falling back to DejaVu Sans\n",
      "  (prop.get_family(), self.defaultFamily[fontext]))\n"
     ]
    },
    {
     "data": {
      "image/png": "[encoded data removed]",
      "text/plain": [
       "<Figure size 432x288 with 1 Axes>"
      ]
     },
     "metadata": {},
     "output_type": "display_data"
    }
   ],
   "source": [
    "bdgObj.detailed_results['Heating Load'].plot()"
   ]
  },
  {
   "cell_type": "code",
   "execution_count": 11,
   "metadata": {},
   "outputs": [
    {
     "data": {
      "text/plain": [
       "<matplotlib.axes._subplots.AxesSubplot at 0x7f57b4fea080>"
      ]
     },
     "execution_count": 11,
     "metadata": {},
     "output_type": "execute_result"
    },
    {
     "name": "stderr",
     "output_type": "stream",
     "text": [
      "/home/leander/anaconda3/lib/python3.6/site-packages/matplotlib/font_manager.py:1328: UserWarning: findfont: Font family ['sans-serif'] not found. Falling back to DejaVu Sans\n",
      "  (prop.get_family(), self.defaultFamily[fontext]))\n"
     ]
    },
    {
     "data": {
      "image/png": "[encoded data removed]",
      "text/plain": [
       "<Figure size 432x288 with 1 Axes>"
      ]
     },
     "metadata": {},
     "output_type": "display_data"
    }
   ],
   "source": [
    "bdgObj.detailed_results['Heating Load']['20100101':'20100107'].plot()"
   ]
  },
  {
   "cell_type": "code",
   "execution_count": null,
   "metadata": {},
   "outputs": [],
   "source": []
  }
 ],
 "metadata": {
  "kernelspec": {
   "display_name": "Python 3",
   "language": "python",
   "name": "python3"
  },
  "language_info": {
   "codemirror_mode": {
    "name": "ipython",
    "version": 3
   },
   "file_extension": ".py",
   "mimetype": "text/x-python",
   "name": "python",
   "nbconvert_exporter": "python",
   "pygments_lexer": "ipython3",
   "version": "3.6.5"
  }
 },
 "nbformat": 4,
 "nbformat_minor": 2
}
