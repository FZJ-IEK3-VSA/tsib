{
 "cells": [
  {
   "cell_type": "markdown",
   "metadata": {},
   "source": [
    "# Validation of the tsib.buildingconfig\n",
    "Author: Leander Kotzur\n",
    "\n",
    "Date: 21.09.2019"
   ]
  },
  {
   "cell_type": "code",
   "execution_count": 1,
   "metadata": {},
   "outputs": [],
   "source": [
    "%matplotlib inline\n",
    "%load_ext autoreload\n",
    "%autoreload 2"
   ]
  },
  {
   "cell_type": "code",
   "execution_count": 2,
   "metadata": {},
   "outputs": [],
   "source": [
    "import tsib.buildingconfig as cfg\n",
    "import pandas as pd\n",
    "import matplotlib.pyplot as plt\n",
    "import numpy as np\n",
    "import copy\n",
    "import os"
   ]
  },
  {
   "cell_type": "markdown",
   "metadata": {},
   "source": [
    "## Read building configurations data"
   ]
  },
  {
   "cell_type": "markdown",
   "metadata": {},
   "source": [
    "Building configurations for 5 archetypes"
   ]
  },
  {
   "cell_type": "code",
   "execution_count": 3,
   "metadata": {},
   "outputs": [],
   "source": [
    "bdgs_raw = pd.read_csv(os.path.join('5_archetypes_config.csv'), index_col = 0)"
   ]
  },
  {
   "cell_type": "code",
   "execution_count": 4,
   "metadata": {},
   "outputs": [
    {
     "data": {
      "text/html": [
       "<div>\n",
       "<style scoped>\n",
       "    .dataframe tbody tr th:only-of-type {\n",
       "        vertical-align: middle;\n",
       "    }\n",
       "\n",
       "    .dataframe tbody tr th {\n",
       "        vertical-align: top;\n",
       "    }\n",
       "\n",
       "    .dataframe thead th {\n",
       "        text-align: right;\n",
       "    }\n",
       "</style>\n",
       "<table border=\"1\" class=\"dataframe\">\n",
       "  <thead>\n",
       "    <tr style=\"text-align: right;\">\n",
       "      <th></th>\n",
       "      <th>buildingYear</th>\n",
       "      <th>a_ref_app</th>\n",
       "      <th>surrounding</th>\n",
       "      <th>n_persons</th>\n",
       "      <th>roofOrientation</th>\n",
       "      <th>ownership</th>\n",
       "      <th>existingHeatSupply</th>\n",
       "      <th>longitude</th>\n",
       "      <th>latitude</th>\n",
       "      <th>n_apartments</th>\n",
       "      <th>hotWaterElec</th>\n",
       "      <th>comfortT_lb</th>\n",
       "      <th>comfortT_ub</th>\n",
       "      <th>nightReduction</th>\n",
       "      <th>capControl</th>\n",
       "    </tr>\n",
       "  </thead>\n",
       "  <tbody>\n",
       "    <tr>\n",
       "      <th>0</th>\n",
       "      <td>1919</td>\n",
       "      <td>79.0</td>\n",
       "      <td>Terraced</td>\n",
       "      <td>1</td>\n",
       "      <td>90.0</td>\n",
       "      <td>False</td>\n",
       "      <td>Oil boiler</td>\n",
       "      <td>9.779301</td>\n",
       "      <td>50.922095</td>\n",
       "      <td>11</td>\n",
       "      <td>False</td>\n",
       "      <td>21.0</td>\n",
       "      <td>25.0</td>\n",
       "      <td>True</td>\n",
       "      <td>True</td>\n",
       "    </tr>\n",
       "    <tr>\n",
       "      <th>1</th>\n",
       "      <td>1979</td>\n",
       "      <td>39.0</td>\n",
       "      <td>Terraced</td>\n",
       "      <td>4</td>\n",
       "      <td>67.5</td>\n",
       "      <td>True</td>\n",
       "      <td>Oil boiler</td>\n",
       "      <td>9.479936</td>\n",
       "      <td>50.410871</td>\n",
       "      <td>3</td>\n",
       "      <td>False</td>\n",
       "      <td>21.0</td>\n",
       "      <td>25.0</td>\n",
       "      <td>True</td>\n",
       "      <td>True</td>\n",
       "    </tr>\n",
       "    <tr>\n",
       "      <th>2</th>\n",
       "      <td>1959</td>\n",
       "      <td>59.0</td>\n",
       "      <td>Detached</td>\n",
       "      <td>2</td>\n",
       "      <td>0.0</td>\n",
       "      <td>True</td>\n",
       "      <td>Gas boiler</td>\n",
       "      <td>9.572005</td>\n",
       "      <td>50.869338</td>\n",
       "      <td>1</td>\n",
       "      <td>False</td>\n",
       "      <td>21.0</td>\n",
       "      <td>25.0</td>\n",
       "      <td>True</td>\n",
       "      <td>True</td>\n",
       "    </tr>\n",
       "    <tr>\n",
       "      <th>3</th>\n",
       "      <td>1949</td>\n",
       "      <td>59.0</td>\n",
       "      <td>Semi</td>\n",
       "      <td>2</td>\n",
       "      <td>22.5</td>\n",
       "      <td>False</td>\n",
       "      <td>Electric heater</td>\n",
       "      <td>10.851559</td>\n",
       "      <td>51.295468</td>\n",
       "      <td>37</td>\n",
       "      <td>False</td>\n",
       "      <td>21.0</td>\n",
       "      <td>25.0</td>\n",
       "      <td>True</td>\n",
       "      <td>True</td>\n",
       "    </tr>\n",
       "    <tr>\n",
       "      <th>4</th>\n",
       "      <td>1969</td>\n",
       "      <td>99.0</td>\n",
       "      <td>Semi</td>\n",
       "      <td>3</td>\n",
       "      <td>45.0</td>\n",
       "      <td>False</td>\n",
       "      <td>District heating</td>\n",
       "      <td>9.763013</td>\n",
       "      <td>50.986896</td>\n",
       "      <td>423</td>\n",
       "      <td>False</td>\n",
       "      <td>21.0</td>\n",
       "      <td>25.0</td>\n",
       "      <td>True</td>\n",
       "      <td>True</td>\n",
       "    </tr>\n",
       "  </tbody>\n",
       "</table>\n",
       "</div>"
      ],
      "text/plain": [
       "   buildingYear  a_ref_app surrounding  n_persons  roofOrientation  ownership  \\\n",
       "0          1919       79.0    Terraced          1             90.0      False   \n",
       "1          1979       39.0    Terraced          4             67.5       True   \n",
       "2          1959       59.0    Detached          2              0.0       True   \n",
       "3          1949       59.0        Semi          2             22.5      False   \n",
       "4          1969       99.0        Semi          3             45.0      False   \n",
       "\n",
       "  existingHeatSupply  longitude   latitude  n_apartments  hotWaterElec  \\\n",
       "0         Oil boiler   9.779301  50.922095            11         False   \n",
       "1         Oil boiler   9.479936  50.410871             3         False   \n",
       "2         Gas boiler   9.572005  50.869338             1         False   \n",
       "3    Electric heater  10.851559  51.295468            37         False   \n",
       "4   District heating   9.763013  50.986896           423         False   \n",
       "\n",
       "   comfortT_lb  comfortT_ub  nightReduction  capControl  \n",
       "0         21.0         25.0            True        True  \n",
       "1         21.0         25.0            True        True  \n",
       "2         21.0         25.0            True        True  \n",
       "3         21.0         25.0            True        True  \n",
       "4         21.0         25.0            True        True  "
      ]
     },
     "execution_count": 4,
     "metadata": {},
     "output_type": "execute_result"
    }
   ],
   "source": [
    "bdgs_raw"
   ]
  },
  {
   "cell_type": "code",
   "execution_count": null,
   "metadata": {},
   "outputs": [],
   "source": [
    "bdgs_dict = bdgs_raw.T.to_dict()"
   ]
  },
  {
   "cell_type": "markdown",
   "metadata": {},
   "source": [
    "### Loop over the buildings, define them and get their profile"
   ]
  },
  {
   "cell_type": "code",
   "execution_count": null,
   "metadata": {},
   "outputs": [],
   "source": [
    "bdg_cfgs = {}"
   ]
  },
  {
   "cell_type": "code",
   "execution_count": null,
   "metadata": {},
   "outputs": [
    {
     "name": "stdout",
     "output_type": "stream",
     "text": [
      "Start 7 processes, round 1 of 2\n",
      "  Process 1\n",
      "  Process 2\n",
      "  Process 3\n",
      "  Process 4\n",
      "  Process 5\n",
      "  Process 6\n",
      "  Process 7\n",
      "- closed the round\n",
      "Start 2 processes, round 2 of 2\n",
      "  Process 1\n",
      "  Process 2\n",
      "- closed the round\n",
      "Start 3 processes, round 1 of 1\n",
      "  Process 1\n",
      "  Process 2\n",
      "  Process 3\n",
      "- closed the round\n"
     ]
    },
    {
     "name": "stderr",
     "output_type": "stream",
     "text": [
      "c:\\users\\l.kotzur\\sciebo\\fzj\\04_public\\tsib\\tsib\\timeseriesmanager.py:200: FutureWarning: read_table is deprecated, use read_csv instead.\n",
      "  filepath + \".dat\", sep=\"\\s+\", skiprows=([i for i in range(0, 36)] + [37])\n"
     ]
    },
    {
     "name": "stdout",
     "output_type": "stream",
     "text": [
      "Start 7 processes, round 1 of 3\n",
      "  Process 1\n",
      "  Process 2\n",
      "  Process 3\n",
      "  Process 4\n",
      "  Process 5\n",
      "  Process 6\n",
      "  Process 7\n",
      "- closed the round\n",
      "Start 7 processes, round 2 of 3\n",
      "  Process 1\n",
      "  Process 2\n",
      "  Process 3\n",
      "  Process 4\n",
      "  Process 5\n",
      "  Process 6\n",
      "  Process 7\n"
     ]
    }
   ],
   "source": [
    "for bdg_ix in bdgs_dict:\n",
    "    bdg = cfg.BuildingConfiguration(bdgs_dict[bdg_ix])\n",
    "    bdg_cfgs[bdg_ix] = bdg.getBdgCfg()"
   ]
  },
  {
   "cell_type": "code",
   "execution_count": null,
   "metadata": {},
   "outputs": [],
   "source": []
  }
 ],
 "metadata": {
  "kernelspec": {
   "display_name": "Python 3",
   "language": "python",
   "name": "python3"
  },
  "language_info": {
   "codemirror_mode": {
    "name": "ipython",
    "version": 3
   },
   "file_extension": ".py",
   "mimetype": "text/x-python",
   "name": "python",
   "nbconvert_exporter": "python",
   "pygments_lexer": "ipython3",
   "version": "3.6.7"
  },
  "toc": {
   "base_numbering": 1,
   "nav_menu": {},
   "number_sections": true,
   "sideBar": true,
   "skip_h1_title": true,
   "title_cell": "Table of Contents",
   "title_sidebar": "Contents",
   "toc_cell": false,
   "toc_position": {
    "height": "calc(100% - 180px)",
    "left": "10px",
    "top": "150px",
    "width": "341.797px"
   },
   "toc_section_display": true,
   "toc_window_display": true
  }
 },
 "nbformat": 4,
 "nbformat_minor": 2
}
