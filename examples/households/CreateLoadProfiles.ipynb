{
 "cells": [
  {
   "cell_type": "markdown",
   "metadata": {},
   "source": [
    "# Creates all maximal required load profiles with tsorb and tsib"
   ]
  },
  {
   "cell_type": "code",
   "execution_count": null,
   "metadata": {
    "collapsed": true
   },
   "outputs": [],
   "source": [
    "import os\n",
    "import time\n",
    "import datetime"
   ]
  },
  {
   "cell_type": "code",
   "execution_count": 1,
   "metadata": {
    "collapsed": true
   },
   "outputs": [],
   "source": [
    "import pandas as pd"
   ]
  },
  {
   "cell_type": "code",
   "execution_count": 3,
   "metadata": {
    "collapsed": true
   },
   "outputs": [],
   "source": [
    "import tsib\n",
    "import tsib"
   ]
  },
  {
   "cell_type": "code",
   "execution_count": 5,
   "metadata": {
    "collapsed": true
   },
   "outputs": [],
   "source": [
    "import multiprocessing as mp"
   ]
  },
  {
   "cell_type": "markdown",
   "metadata": {},
   "source": [
    "Number of household size"
   ]
  },
  {
   "cell_type": "code",
   "execution_count": null,
   "metadata": {
    "collapsed": true
   },
   "outputs": [],
   "source": [
    "HH_SIZE = [1,2,3,4,5]"
   ]
  },
  {
   "cell_type": "markdown",
   "metadata": {},
   "source": [
    "Get time series for Potsdam"
   ]
  },
  {
   "cell_type": "code",
   "execution_count": 4,
   "metadata": {
    "collapsed": true
   },
   "outputs": [],
   "source": [
    "weather, loc = tsib.readTRY(try_num=4)"
   ]
  },
  {
   "cell_type": "markdown",
   "metadata": {},
   "source": [
    "Get a time dataframe for performance checking"
   ]
  },
  {
   "cell_type": "code",
   "execution_count": null,
   "metadata": {
    "collapsed": true
   },
   "outputs": [],
   "source": [
    "timeFrame = pd.DataFrame(0, columns = ['Start time','End time','Duration [s]'], index = HH_SIZE)"
   ]
  },
  {
   "cell_type": "markdown",
   "metadata": {},
   "source": [
    "Generate for all seeds the profiles, if not existant"
   ]
  },
  {
   "cell_type": "code",
   "execution_count": null,
   "metadata": {
    "collapsed": true
   },
   "outputs": [],
   "source": [
    "SEEDS = [x for x in range(tsib.buildingmodel.TOTAL_PROFILE_NUM+1)]"
   ]
  },
  {
   "cell_type": "code",
   "execution_count": null,
   "metadata": {
    "collapsed": true
   },
   "outputs": [],
   "source": [
    "for n_persons in HH_SIZE:\n",
    "    # get starttime\n",
    "    startTime = time.time()\n",
    "    timeFrame.loc[n_persons,'Start time'] = datetime.datetime.now()\n",
    "    \n",
    "    tsib.getHouseholdProfiles(n_persons,\n",
    "                               weather, '4', seeds=SEEDS,\n",
    "                               ignore_weather=True,\n",
    "                               mean_load=True,\n",
    "                              cores = mp.cpu_count() - 2)\n",
    "    \n",
    "    # get endtime\n",
    "    endTime = time.time()\n",
    "    timeFrame.loc[n_persons,'End time'] = datetime.datetime.now()\n",
    "    timeFrame.loc[n_persons,'Duration [s]'] = endTime-startTime\n",
    "    \n",
    "    print('FINISHED - Duration for '+ str(n_persons) + ' persons: ' + str(endTime-startTime))"
   ]
  },
  {
   "cell_type": "code",
   "execution_count": null,
   "metadata": {
    "collapsed": true
   },
   "outputs": [],
   "source": [
    "timeFrame.to_csv(os.path.join(os.getcwd(),'timeDuration.csv'))"
   ]
  }
 ],
 "metadata": {
  "kernelspec": {
   "display_name": "Python 3",
   "language": "python",
   "name": "python3"
  },
  "language_info": {
   "codemirror_mode": {
    "name": "ipython",
    "version": 3
   },
   "file_extension": ".py",
   "mimetype": "text/x-python",
   "name": "python",
   "nbconvert_exporter": "python",
   "pygments_lexer": "ipython3",
   "version": "3.6.1"
  }
 },
 "nbformat": 4,
 "nbformat_minor": 2
}
