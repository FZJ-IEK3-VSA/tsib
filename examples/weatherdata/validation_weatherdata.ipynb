{
 "cells": [
  {
   "cell_type": "markdown",
   "metadata": {},
   "source": [
    "# Validation of the tsib.timeseriesmanager.get_era5 module\n",
    "Author: Leander Kotzur\n",
    "\n",
    "Date: 21.09.2019"
   ]
  },
  {
   "cell_type": "code",
   "execution_count": 1,
   "metadata": {},
   "outputs": [],
   "source": [
    "%matplotlib inline\n",
    "%load_ext autoreload\n",
    "%autoreload 2"
   ]
  },
  {
   "cell_type": "code",
   "execution_count": 2,
   "metadata": {},
   "outputs": [],
   "source": [
    "import tsib.timeseriesmanager as tsm\n",
    "import pandas as pd\n",
    "import matplotlib.pyplot as plt\n",
    "import numpy as np\n",
    "import copy\n",
    "import os"
   ]
  },
  {
   "cell_type": "code",
   "execution_count": 3,
   "metadata": {},
   "outputs": [],
   "source": [
    "from netCDF4 import Dataset,num2date"
   ]
  },
  {
   "cell_type": "code",
   "execution_count": 4,
   "metadata": {},
   "outputs": [],
   "source": [
    "import cdsapi\n"
   ]
  },
  {
   "cell_type": "markdown",
   "metadata": {},
   "source": [
    "Get weather data"
   ]
  },
  {
   "cell_type": "code",
   "execution_count": 5,
   "metadata": {},
   "outputs": [],
   "source": [
    "try_data,location = tsm.readTRY()"
   ]
  },
  {
   "cell_type": "code",
   "execution_count": 6,
   "metadata": {
    "scrolled": true
   },
   "outputs": [
    {
     "data": {
      "text/html": [
       "<div>\n",
       "<style scoped>\n",
       "    .dataframe tbody tr th:only-of-type {\n",
       "        vertical-align: middle;\n",
       "    }\n",
       "\n",
       "    .dataframe tbody tr th {\n",
       "        vertical-align: top;\n",
       "    }\n",
       "\n",
       "    .dataframe thead th {\n",
       "        text-align: right;\n",
       "    }\n",
       "</style>\n",
       "<table border=\"1\" class=\"dataframe\">\n",
       "  <thead>\n",
       "    <tr style=\"text-align: right;\">\n",
       "      <th></th>\n",
       "      <th>RG</th>\n",
       "      <th>IS</th>\n",
       "      <th>MM</th>\n",
       "      <th>DD</th>\n",
       "      <th>HH</th>\n",
       "      <th>N</th>\n",
       "      <th>WR</th>\n",
       "      <th>WS</th>\n",
       "      <th>T</th>\n",
       "      <th>p</th>\n",
       "      <th>...</th>\n",
       "      <th>RF</th>\n",
       "      <th>W</th>\n",
       "      <th>B</th>\n",
       "      <th>DHI</th>\n",
       "      <th>IK</th>\n",
       "      <th>A</th>\n",
       "      <th>E</th>\n",
       "      <th>IL</th>\n",
       "      <th>GHI</th>\n",
       "      <th>DNI</th>\n",
       "    </tr>\n",
       "  </thead>\n",
       "  <tbody>\n",
       "    <tr>\n",
       "      <th>2010-01-01 00:30:00+01:00</th>\n",
       "      <td>4</td>\n",
       "      <td>1</td>\n",
       "      <td>1</td>\n",
       "      <td>1</td>\n",
       "      <td>1</td>\n",
       "      <td>7</td>\n",
       "      <td>230</td>\n",
       "      <td>5.7</td>\n",
       "      <td>-2.6</td>\n",
       "      <td>1005.3</td>\n",
       "      <td>...</td>\n",
       "      <td>93</td>\n",
       "      <td>70</td>\n",
       "      <td>0</td>\n",
       "      <td>0</td>\n",
       "      <td>1</td>\n",
       "      <td>251</td>\n",
       "      <td>-285</td>\n",
       "      <td>9</td>\n",
       "      <td>0</td>\n",
       "      <td>0.0</td>\n",
       "    </tr>\n",
       "    <tr>\n",
       "      <th>2010-01-01 01:30:00+01:00</th>\n",
       "      <td>4</td>\n",
       "      <td>1</td>\n",
       "      <td>1</td>\n",
       "      <td>1</td>\n",
       "      <td>2</td>\n",
       "      <td>7</td>\n",
       "      <td>240</td>\n",
       "      <td>5.7</td>\n",
       "      <td>-3.9</td>\n",
       "      <td>1011.4</td>\n",
       "      <td>...</td>\n",
       "      <td>89</td>\n",
       "      <td>70</td>\n",
       "      <td>0</td>\n",
       "      <td>0</td>\n",
       "      <td>1</td>\n",
       "      <td>275</td>\n",
       "      <td>-291</td>\n",
       "      <td>9</td>\n",
       "      <td>0</td>\n",
       "      <td>0.0</td>\n",
       "    </tr>\n",
       "    <tr>\n",
       "      <th>2010-01-01 02:30:00+01:00</th>\n",
       "      <td>4</td>\n",
       "      <td>1</td>\n",
       "      <td>1</td>\n",
       "      <td>1</td>\n",
       "      <td>3</td>\n",
       "      <td>8</td>\n",
       "      <td>260</td>\n",
       "      <td>5.7</td>\n",
       "      <td>-4.6</td>\n",
       "      <td>1016.0</td>\n",
       "      <td>...</td>\n",
       "      <td>90</td>\n",
       "      <td>22</td>\n",
       "      <td>0</td>\n",
       "      <td>0</td>\n",
       "      <td>1</td>\n",
       "      <td>281</td>\n",
       "      <td>-296</td>\n",
       "      <td>9</td>\n",
       "      <td>0</td>\n",
       "      <td>0.0</td>\n",
       "    </tr>\n",
       "    <tr>\n",
       "      <th>2010-01-01 03:30:00+01:00</th>\n",
       "      <td>4</td>\n",
       "      <td>1</td>\n",
       "      <td>1</td>\n",
       "      <td>1</td>\n",
       "      <td>4</td>\n",
       "      <td>8</td>\n",
       "      <td>270</td>\n",
       "      <td>5.7</td>\n",
       "      <td>-3.9</td>\n",
       "      <td>1016.2</td>\n",
       "      <td>...</td>\n",
       "      <td>95</td>\n",
       "      <td>22</td>\n",
       "      <td>0</td>\n",
       "      <td>0</td>\n",
       "      <td>1</td>\n",
       "      <td>281</td>\n",
       "      <td>-297</td>\n",
       "      <td>9</td>\n",
       "      <td>0</td>\n",
       "      <td>0.0</td>\n",
       "    </tr>\n",
       "    <tr>\n",
       "      <th>2010-01-01 04:30:00+01:00</th>\n",
       "      <td>4</td>\n",
       "      <td>1</td>\n",
       "      <td>1</td>\n",
       "      <td>1</td>\n",
       "      <td>5</td>\n",
       "      <td>8</td>\n",
       "      <td>280</td>\n",
       "      <td>5.5</td>\n",
       "      <td>-3.3</td>\n",
       "      <td>1016.5</td>\n",
       "      <td>...</td>\n",
       "      <td>97</td>\n",
       "      <td>10</td>\n",
       "      <td>0</td>\n",
       "      <td>0</td>\n",
       "      <td>1</td>\n",
       "      <td>283</td>\n",
       "      <td>-299</td>\n",
       "      <td>9</td>\n",
       "      <td>0</td>\n",
       "      <td>0.0</td>\n",
       "    </tr>\n",
       "  </tbody>\n",
       "</table>\n",
       "<p>5 rows × 21 columns</p>\n",
       "</div>"
      ],
      "text/plain": [
       "                           RG  IS  MM  DD  HH  N   WR   WS    T       p  ...  \\\n",
       "2010-01-01 00:30:00+01:00   4   1   1   1   1  7  230  5.7 -2.6  1005.3  ...   \n",
       "2010-01-01 01:30:00+01:00   4   1   1   1   2  7  240  5.7 -3.9  1011.4  ...   \n",
       "2010-01-01 02:30:00+01:00   4   1   1   1   3  8  260  5.7 -4.6  1016.0  ...   \n",
       "2010-01-01 03:30:00+01:00   4   1   1   1   4  8  270  5.7 -3.9  1016.2  ...   \n",
       "2010-01-01 04:30:00+01:00   4   1   1   1   5  8  280  5.5 -3.3  1016.5  ...   \n",
       "\n",
       "                           RF   W  B  DHI  IK    A    E  IL  GHI  DNI  \n",
       "2010-01-01 00:30:00+01:00  93  70  0    0   1  251 -285   9    0  0.0  \n",
       "2010-01-01 01:30:00+01:00  89  70  0    0   1  275 -291   9    0  0.0  \n",
       "2010-01-01 02:30:00+01:00  90  22  0    0   1  281 -296   9    0  0.0  \n",
       "2010-01-01 03:30:00+01:00  95  22  0    0   1  281 -297   9    0  0.0  \n",
       "2010-01-01 04:30:00+01:00  97  10  0    0   1  283 -299   9    0  0.0  \n",
       "\n",
       "[5 rows x 21 columns]"
      ]
     },
     "execution_count": 6,
     "metadata": {},
     "output_type": "execute_result"
    }
   ],
   "source": [
    "try_data.head()"
   ]
  },
  {
   "cell_type": "code",
   "execution_count": 7,
   "metadata": {},
   "outputs": [
    {
     "data": {
      "text/plain": [
       "{'name': b'Potsdam',\n",
       " 'latitude': 52.38333333333333,\n",
       " 'longitude': 13.066666666666666}"
      ]
     },
     "execution_count": 7,
     "metadata": {},
     "output_type": "execute_result"
    }
   ],
   "source": [
    "location"
   ]
  },
  {
   "cell_type": "markdown",
   "metadata": {},
   "source": [
    "## Get single profiles"
   ]
  },
  {
   "cell_type": "code",
   "execution_count": 10,
   "metadata": {},
   "outputs": [],
   "source": [
    "filename = 'download2.nc'"
   ]
  },
  {
   "cell_type": "code",
   "execution_count": 12,
   "metadata": {
    "scrolled": true
   },
   "outputs": [
    {
     "name": "stderr",
     "output_type": "stream",
     "text": [
      "2019-09-30 21:23:41,431 INFO Sending request to https://cds.climate.copernicus.eu/api/v2/resources/reanalysis-era5-land\n",
      "2019-09-30 21:23:41,723 INFO Request is queued\n",
      "2019-09-30 21:23:42,768 INFO Request is running\n",
      "2019-09-30 22:21:34,304 INFO Request is completed\n",
      "2019-09-30 22:21:34,306 INFO Downloading http://136.156.133.37/cache-compute-0011/cache/data7/adaptor.mars.internal-1569871422.1639633-29917-15-ea545d2e-ba59-4b89-8638-716d7c1b95f1.nc to download2.nc (69.8K)\n",
      "2019-09-30 22:21:34,527 INFO Download rate 318.3K/s\n"
     ]
    },
    {
     "data": {
      "text/plain": [
       "Result(content_length=71460,content_type=application/x-netcdf,location=http://136.156.133.37/cache-compute-0011/cache/data7/adaptor.mars.internal-1569871422.1639633-29917-15-ea545d2e-ba59-4b89-8638-716d7c1b95f1.nc)"
      ]
     },
     "execution_count": 12,
     "metadata": {},
     "output_type": "execute_result"
    }
   ],
   "source": [
    "\n",
    "c = cdsapi.Client()\n",
    "\n",
    "c.retrieve(\n",
    "    'reanalysis-era5-land',\n",
    "    {\n",
    "        'format':'netcdf',\n",
    "        'variable':[\n",
    "            '2m_temperature',\n",
    "            'surface_net_solar_radiation',\n",
    "            'total_sky_direct_solar_radiation_at_surface'\n",
    "        ],\n",
    "        'area':str(location['latitude']) + \n",
    "                '/' + str(location['longitude']) +\n",
    "                '/' + str(location['latitude']+0.1) + \n",
    "                '/' + str(location['longitude']+0.1),\n",
    "        'year':'2014',\n",
    "        'month':[\n",
    "            '01','02','03',\n",
    "            '04','05','06',\n",
    "            '07','08','09',\n",
    "            '10','11','12'\n",
    "        ],\n",
    "        'day':[\n",
    "            '01','02','03',\n",
    "            '04','05','06',\n",
    "            '07','08','09',\n",
    "            '10','11','12',\n",
    "            '13','14','15',\n",
    "            '16','17','18',\n",
    "            '19','20','21',\n",
    "            '22','23','24',\n",
    "            '25','26','27',\n",
    "            '28','29','30',\n",
    "            '31'\n",
    "        ],\n",
    "        'time':[\n",
    "            '00:00','01:00','02:00',\n",
    "            '03:00','04:00','05:00',\n",
    "            '06:00','07:00','08:00',\n",
    "            '09:00','10:00','11:00',\n",
    "            '12:00','13:00','14:00',\n",
    "            '15:00','16:00','17:00',\n",
    "            '18:00','19:00','20:00',\n",
    "            '21:00','22:00','23:00'\n",
    "        ]\n",
    "    },\n",
    "    filename,\n",
    ")"
   ]
  },
  {
   "cell_type": "code",
   "execution_count": 13,
   "metadata": {},
   "outputs": [],
   "source": [
    "nc_pvFile = Dataset(filename,'r')\n",
    "lats = nc_pvFile.variables['latitude'][:]  # extract/copy the data\n",
    "lons = nc_pvFile.variables['longitude'][:]\n",
    "lats = lats[:].squeeze()\n",
    "lons = lons[:].squeeze()"
   ]
  },
  {
   "cell_type": "code",
   "execution_count": null,
   "metadata": {},
   "outputs": [],
   "source": [
    "# initialize a pandas.DataFrame to store all the data\n",
    "time_index = pd.date_range(\n",
    "    start=str(year) + \"-01-01 00:30:00\",\n",
    "    end=str(year) + \"-12-31 23:30:00\",\n",
    "    freq=\"H\",\n",
    "    tz=\"Europe/Berlin\",\n",
    ")"
   ]
  },
  {
   "cell_type": "code",
   "execution_count": null,
   "metadata": {},
   "outputs": [],
   "source": []
  },
  {
   "cell_type": "code",
   "execution_count": null,
   "metadata": {},
   "outputs": [],
   "source": [
    "def get_era5(lon, lat, year):\n",
    "    \"\"\"\n",
    "    Get data from the cosmo data set.\n",
    "\n",
    "    Parameters\n",
    "    ----------\n",
    "    lon: float\n",
    "        Longitude in degree.\n",
    "    lat: float\n",
    "        Latitude in degree.\n",
    "    year: int\n",
    "        Year from 2010 to 2015 as integer.\n",
    "\n",
    "    Returns\n",
    "    -------\n",
    "    df: pd.DataFrame with the data.\n",
    "    datapath: Identifier for the weather data.\n",
    "    \"\"\"\n",
    "    try:\n",
    "        import res\n",
    "        import netCDF4 as nc\n",
    "    except ImportError:\n",
    "        raise ImportError('Internal packages are required.')\n",
    "\n",
    "    # required variables and a translation to the terms used in tsib\n",
    "    VARIABLES2TRY = {\n",
    "        \"SWDIFDS_RAD\": \"DHI\",\n",
    "        \"SWDIRS_RAD\": \"DirectHI\",\n",
    "        \"2t\": \"T\",\n",
    "        \"windspeed_10\": \"WS\",\n",
    "        \"sp\": \"p\",\n",
    "    }\n",
    "\n",
    "    # get the data allocation\n",
    "    data = res.weather.CosmoSource(\n",
    "        [os.path.join(datapath, str(year), \"*.nc\")], bounds=(lon, lat), verbose=False\n",
    "    )\n",
    "\n",
    "    # get the index for the netCDF4 file\n",
    "    ix = res.weather.CosmoSource.loc2Index(None, (lon, lat))\n",
    "\n",
    "    # get a filepath for the resulting weather data set, ix[1]\n",
    "    identifier = \"COSMO_Year_\" + str(year) + \"_ix_\" + str(ix[0]) + \"_\" + str(ix[1])\n",
    "    filepath = os.path.join(DATA_PATH, \"weatherdata\", \"COSMO\", identifier)\n",
    "\n",
    "    # get file if existing\n",
    "    if os.path.isfile(filepath + \".csv\"):\n",
    "        df = pd.read_csv(filepath + \".csv\", index_col=0, parse_dates=True)\n",
    "        df.index = df.index.tz_localize(\"UTC\").tz_convert(\"Europe/Berlin\")\n",
    "\n",
    "    # get data\n",
    "    else:\n",
    "        # initialize a pandas.DataFrame to store all the data\n",
    "        time_index = pd.date_range(\n",
    "            start=str(year) + \"-01-01 00:30:00\",\n",
    "            end=str(year) + \"-12-31 23:30:00\",\n",
    "            freq=\"H\",\n",
    "            tz=\"Europe/Berlin\",\n",
    "        )\n",
    "        df = pd.DataFrame(index=time_index)\n",
    "\n",
    "        # loop over required variables and load the data into the dataframe\n",
    "        for var in VARIABLES2TRY.keys():\n",
    "            # load dataset via netCDF4\n",
    "            ds = nc.Dataset(data.variables.loc[var, \"path\"])\n",
    "            df[VARIABLES2TRY[var]] = ds.variables[var][:, ix[0], ix[1]]\n",
    "\n",
    "        # convert temperature from K to °C\n",
    "        df[\"T\"] = df[\"T\"] - 273.15\n",
    "\n",
    "        # get GHI\n",
    "        df[\"GHI\"] = df[\"DirectHI\"] + df[\"DHI\"]\n",
    "\n",
    "        # calclulate DNI\n",
    "        df[\"DNI\"] = calculateDNI(df[\"DirectHI\"], lon, lat)\n",
    "\n",
    "        # remove leap day\n",
    "        sel = np.logical_and((time_index.day == 29), (time_index.month == 2))\n",
    "        df = df.loc[~sel]\n",
    "\n",
    "        # save as .csv\n",
    "        df.to_csv(filepath + \".csv\")\n",
    "    return df, identifier"
   ]
  },
  {
   "cell_type": "code",
   "execution_count": 14,
   "metadata": {},
   "outputs": [
    {
     "data": {
      "text/plain": [
       "{'longitude': <class 'netCDF4._netCDF4.Variable'>\n",
       " float32 longitude(longitude)\n",
       "     units: degrees_east\n",
       "     long_name: longitude\n",
       " unlimited dimensions: \n",
       " current shape = (1,)\n",
       " filling on, default _FillValue of 9.969209968386869e+36 used,\n",
       " 'latitude': <class 'netCDF4._netCDF4.Variable'>\n",
       " float32 latitude(latitude)\n",
       "     units: degrees_north\n",
       "     long_name: latitude\n",
       " unlimited dimensions: \n",
       " current shape = (1,)\n",
       " filling on, default _FillValue of 9.969209968386869e+36 used,\n",
       " 'time': <class 'netCDF4._netCDF4.Variable'>\n",
       " int32 time(time)\n",
       "     units: hours since 1900-01-01 00:00:00.0\n",
       "     long_name: time\n",
       "     calendar: gregorian\n",
       " unlimited dimensions: \n",
       " current shape = (8760,)\n",
       " filling on, default _FillValue of -2147483647 used,\n",
       " 't2m': <class 'netCDF4._netCDF4.Variable'>\n",
       " int16 t2m(time, latitude, longitude)\n",
       "     scale_factor: 0.0006891171182362322\n",
       "     add_offset: 282.8943087617534\n",
       "     _FillValue: -32767\n",
       "     missing_value: -32767\n",
       "     units: K\n",
       "     long_name: 2 metre temperature\n",
       " unlimited dimensions: \n",
       " current shape = (8760, 1, 1)\n",
       " filling on,\n",
       " 'ssr': <class 'netCDF4._netCDF4.Variable'>\n",
       " int16 ssr(time, latitude, longitude)\n",
       "     scale_factor: 372.3177940884745\n",
       "     add_offset: 12199364.841102956\n",
       "     _FillValue: -32767\n",
       "     missing_value: -32767\n",
       "     units: J m**-2\n",
       "     long_name: Surface net solar radiation\n",
       "     standard_name: surface_net_downward_shortwave_flux\n",
       " unlimited dimensions: \n",
       " current shape = (8760, 1, 1)\n",
       " filling on}"
      ]
     },
     "execution_count": 14,
     "metadata": {},
     "output_type": "execute_result"
    }
   ],
   "source": [
    "nc_pvFile.variables"
   ]
  },
  {
   "cell_type": "code",
   "execution_count": null,
   "metadata": {},
   "outputs": [],
   "source": [
    "t2m_raw = nc_pvFile.variables['t2m'][:]"
   ]
  },
  {
   "cell_type": "code",
   "execution_count": null,
   "metadata": {},
   "outputs": [],
   "source": [
    "t2m = t2m_raw[:,0,0]\n"
   ]
  },
  {
   "cell_type": "code",
   "execution_count": null,
   "metadata": {},
   "outputs": [],
   "source": [
    "len(t2m)"
   ]
  },
  {
   "cell_type": "markdown",
   "metadata": {},
   "source": [
    "from netCDF4 import Dataset,num2date\n",
    "import cartopy.crs as ccrs\n",
    "from cartopy.mpl.ticker import LongitudeFormatter, LatitudeFormatter\n",
    "from cartopy.util import add_cyclic_point\n",
    "\n",
    "\n",
    "preciPlot = nc_pvFile.variables['tp'][:]\n",
    "\n",
    "pp = preciPlot[0,:,:]\n",
    "\n",
    "\n",
    "ax1 = plt.axes(projection=ccrs.PlateCarree(central_longitude=180))\n",
    "clevs = np.arange(min(pp.flatten()),max(pp.flatten())*1000,1)\n",
    "\n",
    "\n",
    "shear_fill = ax1.contourf(lons,lats,pp*1000,clevs,\n",
    "                      transform=ccrs.PlateCarree(),cmap=plt.get_cmap('hsv'),\n",
    "                                                                      linewidth=(10,),levels=100,extend='both')\n",
    "\n",
    "ax1.coastlines()\n",
    "ax1.gridlines()\n",
    "ax1.set_xticks([0, 10,20,30,40,50,60,70,80,90,100], crs=ccrs.PlateCarree())\n",
    "ax1.set_yticks([0, 10,20,30,40,50,60], crs=ccrs.PlateCarree())\n",
    "lon_formatter = LongitudeFormatter(zero_direction_label=True,\n",
    "                               number_format='.0f')\n",
    "lat_formatter = LatitudeFormatter()\n",
    "ax1.xaxis.set_major_formatter(lon_formatter)\n",
    "ax1.yaxis.set_major_formatter(lat_formatter)\n",
    "cbar = plt.colorbar(shear_fill, orientation='horizontal')\n",
    "plt.title('Total precipitation', fontsize=16)\n",
    "plt.savefig('precip_era.png')"
   ]
  }
 ],
 "metadata": {
  "kernelspec": {
   "display_name": "Python 3",
   "language": "python",
   "name": "python3"
  },
  "language_info": {
   "codemirror_mode": {
    "name": "ipython",
    "version": 3
   },
   "file_extension": ".py",
   "mimetype": "text/x-python",
   "name": "python",
   "nbconvert_exporter": "python",
   "pygments_lexer": "ipython3",
   "version": "3.7.4"
  },
  "toc": {
   "base_numbering": 1,
   "nav_menu": {},
   "number_sections": true,
   "sideBar": true,
   "skip_h1_title": true,
   "title_cell": "Table of Contents",
   "title_sidebar": "Contents",
   "toc_cell": false,
   "toc_position": {
    "height": "calc(100% - 180px)",
    "left": "10px",
    "top": "150px",
    "width": "341.797px"
   },
   "toc_section_display": true,
   "toc_window_display": true
  }
 },
 "nbformat": 4,
 "nbformat_minor": 2
}
