{
 "cells": [
  {
   "cell_type": "markdown",
   "metadata": {},
   "source": [
    "# Test building opt"
   ]
  },
  {
   "cell_type": "markdown",
   "metadata": {},
   "source": [
    "Import all relevant modules"
   ]
  },
  {
   "cell_type": "code",
   "execution_count": 1,
   "metadata": {
    "scrolled": true
   },
   "outputs": [
    {
     "name": "stderr",
     "output_type": "stream",
     "text": [
      "/home/leander/anaconda3/lib/python3.6/site-packages/matplotlib/__init__.py:915: MatplotlibDeprecationWarning: nbagg.transparent is deprecated and ignored. Use figure.facecolor instead.\n",
      "  mplDeprecation)\n"
     ]
    }
   ],
   "source": [
    "import os\n",
    "import time\n",
    "import pandas as pd\n",
    "import numpy as np\n",
    "%matplotlib inline\n",
    "%load_ext autoreload\n",
    "%autoreload 2\n",
    "import tsib\n",
    "import tsib.buildingopt as bopt\n",
    "import tsib"
   ]
  },
  {
   "cell_type": "code",
   "execution_count": 2,
   "metadata": {},
   "outputs": [],
   "source": [
    "import copy"
   ]
  },
  {
   "cell_type": "code",
   "execution_count": 3,
   "metadata": {},
   "outputs": [],
   "source": [
    "import enercore.results as res"
   ]
  },
  {
   "cell_type": "code",
   "execution_count": 4,
   "metadata": {},
   "outputs": [],
   "source": [
    "import matplotlib.pyplot as plt"
   ]
  },
  {
   "cell_type": "code",
   "execution_count": 5,
   "metadata": {},
   "outputs": [],
   "source": [
    "VARIANT = 'default_2016'"
   ]
  },
  {
   "cell_type": "markdown",
   "metadata": {},
   "source": [
    "### 1. Initialize the variation dictionary"
   ]
  },
  {
   "cell_type": "code",
   "execution_count": 6,
   "metadata": {},
   "outputs": [],
   "source": [
    "startTime = time.time()"
   ]
  },
  {
   "cell_type": "markdown",
   "metadata": {},
   "source": [
    "Get the configuration for a single family building."
   ]
  },
  {
   "cell_type": "code",
   "execution_count": 7,
   "metadata": {},
   "outputs": [],
   "source": [
    "sfh = tsib.BuildingConfiguration( {'ID':'DE.N.SFH.09.Gen.ReEx.001.001',\n",
    "                                  'costdata': VARIANT,\n",
    "                                  'ownership': True, \n",
    "                                  'longitude': 11.,\n",
    "                                  'latitude':51.},)"
   ]
  },
  {
   "cell_type": "markdown",
   "metadata": {},
   "source": [
    "Parameterize the optimization"
   ]
  },
  {
   "cell_type": "code",
   "execution_count": 8,
   "metadata": {},
   "outputs": [
    {
     "name": "stderr",
     "output_type": "stream",
     "text": [
      "/media/leander/D24CB5984CB57835/Users/Leander/everken/05_Repositories/tsib/tsib/buildingconfig.py:278: UserWarning: number of persons. \"n_persons\" is inherited from IWU\n",
      "  warnings.warn('number of persons. \"n_persons\" is inherited from IWU')\n",
      "/media/leander/D24CB5984CB57835/Users/Leander/everken/05_Repositories/tsib/tsib/buildingconfig.py:284: UserWarning: number of app. \"n_apartments\" is inherited from IWU\n",
      "  warnings.warn('number of app. \"n_apartments\" is inherited from IWU')\n"
     ]
    }
   ],
   "source": [
    "sfh_opt = bopt.BuildingOpt(configurator = sfh)"
   ]
  },
  {
   "cell_type": "markdown",
   "metadata": {},
   "source": [
    "### 2. Run the optimization"
   ]
  },
  {
   "cell_type": "markdown",
   "metadata": {},
   "source": [
    "Optimize the building list"
   ]
  },
  {
   "cell_type": "markdown",
   "metadata": {},
   "source": [
    "Get Reference"
   ]
  },
  {
   "cell_type": "code",
   "execution_count": 9,
   "metadata": {
    "scrolled": true
   },
   "outputs": [
    {
     "name": "stdout",
     "output_type": "stream",
     "text": [
      "Academic license - for non-commercial use only\n",
      "Changed value of parameter NodeMethod to 1\n",
      "   Prev: -1  Min: -1  Max: 2  Default: -1\n",
      "Changed value of parameter OptimalityTol to 1e-08\n",
      "   Prev: 1e-06  Min: 1e-09  Max: 0.01  Default: 1e-06\n",
      "Changed value of parameter Threads to 3\n",
      "   Prev: 0  Min: 0  Max: 1024  Default: 0\n",
      "Changed value of parameter Cuts to 0\n",
      "   Prev: -1  Min: -1  Max: 3  Default: -1\n",
      "Changed value of parameter Method to 2\n",
      "   Prev: -1  Min: -1  Max: 5  Default: -1\n",
      "Parameter IntFeasTol unchanged\n",
      "   Value: 1e-05  Min: 1e-09  Max: 0.1  Default: 1e-05\n",
      "Optimize a model with 770939 rows, 613284 columns and 2514780 nonzeros\n",
      "Variable types: 613238 continuous, 46 integer (46 binary)\n",
      "Coefficient statistics:\n",
      "  Matrix range     [1e-07, 1e+03]\n",
      "  Objective range  [1e-04, 2e+03]\n",
      "  Bounds range     [1e-04, 1e+01]\n",
      "  RHS range        [4e-04, 4e+01]\n",
      "Presolve removed 668106 rows and 527292 columns\n",
      "Presolve time: 2.30s\n",
      "Presolved: 102833 rows, 85992 columns, 342119 nonzeros\n",
      "Variable types: 85991 continuous, 1 integer (1 binary)\n",
      "Presolved: 102833 rows, 85992 columns, 342119 nonzeros\n",
      "\n",
      "Root barrier log...\n",
      "\n",
      "Ordering time: 0.03s\n",
      "\n",
      "Barrier statistics:\n",
      " Dense cols : 8\n",
      " AA' NZ     : 3.525e+05\n",
      " Factor NZ  : 1.563e+06 (roughly 90 MBytes of memory)\n",
      " Factor Ops : 2.605e+07 (less than 1 second per iteration)\n",
      " Threads    : 3\n",
      "\n",
      "                  Objective                Residual\n",
      "Iter       Primal          Dual         Primal    Dual     Compl     Time\n",
      "   0   1.64614535e+05 -1.39350638e+08  7.02e+01 8.37e-02  1.26e+03     3s\n",
      "   1   1.14010985e+05 -1.71487508e+07  3.48e+01 2.31e-01  2.23e+02     3s\n",
      "   2   9.84552943e+04 -7.06681817e+06  2.73e+01 5.98e-03  1.09e+02     4s\n",
      "   3   5.05023945e+04 -2.06288879e+06  1.61e-01 1.03e-04  9.06e+00     4s\n",
      "   4   4.70692005e+04 -4.33113834e+05  5.13e-02 1.32e-10  2.01e+00     4s\n",
      "   5   3.56447369e+04 -2.00829622e+05  7.43e-11 6.06e-11  9.77e-01     4s\n",
      "   6   1.43047716e+04 -5.53783492e+04  2.13e-11 1.68e-11  2.88e-01     4s\n",
      "   7   7.47195518e+03 -1.47346297e+04  2.97e-12 2.50e-12  9.17e-02     4s\n",
      "   8   4.95151433e+03 -7.60907477e+02  1.20e-12 9.68e-12  2.36e-02     4s\n",
      "   9   3.60191176e+03  1.58970731e+03  2.58e-13 9.09e-13  8.31e-03     4s\n",
      "  10   2.93706239e+03  2.21592548e+03  2.04e-13 1.18e-13  2.98e-03     4s\n",
      "  11   2.77422164e+03  2.33455221e+03  1.33e-13 9.95e-14  1.82e-03     5s\n",
      "  12   2.73034188e+03  2.36260531e+03  9.42e-14 2.27e-13  1.52e-03     5s\n",
      "  13   2.69235417e+03  2.41443447e+03  7.49e-14 4.09e-12  1.15e-03     5s\n",
      "  14   2.68286135e+03  2.43587784e+03  9.00e-14 3.07e-12  1.02e-03     5s\n",
      "  15   2.66809947e+03  2.44278860e+03  1.13e-12 2.50e-12  9.31e-04     5s\n",
      "  16   2.64901097e+03  2.44559932e+03  1.65e-12 2.50e-12  8.40e-04     5s\n",
      "  17   2.63895285e+03  2.45045107e+03  2.05e-12 3.52e-12  7.79e-04     5s\n",
      "  18   2.63441739e+03  2.45469178e+03  1.95e-12 3.52e-12  7.42e-04     5s\n",
      "  19   2.62995191e+03  2.45681609e+03  2.02e-12 3.41e-13  7.15e-04     5s\n",
      "  20   2.62662576e+03  2.45806568e+03  2.14e-12 1.48e-12  6.96e-04     5s\n",
      "  21   2.62183477e+03  2.46672389e+03  1.85e-12 2.84e-13  6.41e-04     6s\n",
      "  22   2.61352737e+03  2.47745567e+03  1.71e-12 5.68e-14  5.62e-04     6s\n",
      "  23   2.60933908e+03  2.48549853e+03  1.20e-12 1.71e-12  5.12e-04     6s\n",
      "  24   2.60448286e+03  2.48979804e+03  1.07e-12 1.28e-13  4.74e-04     6s\n",
      "  25   2.60278803e+03  2.49149716e+03  1.03e-12 1.59e-12  4.60e-04     6s\n",
      "  26   2.59633946e+03  2.49639506e+03  8.37e-13 9.09e-13  4.13e-04     6s\n",
      "  27   2.59236192e+03  2.49923542e+03  5.09e-13 2.50e-12  3.85e-04     6s\n",
      "  28   2.58829450e+03  2.50497301e+03  5.54e-13 1.85e-13  3.44e-04     6s\n",
      "  29   2.58385607e+03  2.50709029e+03  4.81e-13 4.55e-13  3.17e-04     6s\n",
      "  30   2.58235675e+03  2.50929842e+03  4.08e-13 5.68e-13  3.02e-04     6s\n",
      "  31   2.57353463e+03  2.51258181e+03  3.22e-13 1.71e-12  2.52e-04     7s\n",
      "  32   2.56982468e+03  2.51734099e+03  5.29e-13 2.73e-12  2.17e-04     7s\n",
      "  33   2.56563087e+03  2.51906827e+03  7.25e-13 4.55e-13  1.92e-04     7s\n",
      "  34   2.56401628e+03  2.52051682e+03  6.10e-13 9.95e-14  1.80e-04     7s\n",
      "  35   2.56145623e+03  2.52177191e+03  4.94e-13 5.68e-13  1.64e-04     7s\n",
      "  36   2.55934091e+03  2.52486921e+03  4.36e-13 9.95e-14  1.42e-04     7s\n",
      "  37   2.55616303e+03  2.52797386e+03  1.93e-12 8.53e-14  1.16e-04     7s\n",
      "  38   2.55161874e+03  2.53118552e+03  1.98e-12 2.27e-13  8.44e-05     7s\n",
      "  39   2.54935729e+03  2.53439008e+03  1.39e-12 2.61e-12  6.18e-05     7s\n",
      "  40   2.54695791e+03  2.53582791e+03  2.63e-12 8.25e-15  4.60e-05     7s\n",
      "  41   2.54649580e+03  2.53596766e+03  2.50e-12 9.78e-15  4.35e-05     8s\n",
      "  42   2.54559734e+03  2.53668599e+03  1.94e-12 5.68e-14  3.68e-05     8s\n",
      "  43   2.54444393e+03  2.53771437e+03  2.77e-12 5.68e-14  2.78e-05     8s\n",
      "  44   2.54393329e+03  2.53943809e+03  2.95e-12 1.85e-14  1.86e-05     8s\n",
      "  45   2.54273396e+03  2.54088820e+03  2.87e-12 3.27e-13  7.63e-06     8s\n",
      "  46   2.54232912e+03  2.54108734e+03  1.59e-12 1.36e-12  5.13e-06     8s\n",
      "  47   2.54211251e+03  2.54118055e+03  2.88e-12 9.36e-15  3.85e-06     8s\n",
      "  48   2.54188445e+03  2.54157438e+03  2.97e-12 1.82e-12  1.28e-06     8s\n",
      "  49   2.54181176e+03  2.54158130e+03  1.13e-11 1.52e-13  9.52e-07     8s\n",
      "  50   2.54177306e+03  2.54165462e+03  8.15e-12 5.68e-13  4.89e-07     8s\n",
      "  51   2.54175354e+03  2.54167362e+03  3.63e-12 9.09e-13  3.30e-07     9s\n",
      "  52   2.54174480e+03  2.54154983e+03  6.14e-12 2.45e-11  8.05e-07     9s\n",
      "  53   2.54170181e+03  2.54163861e+03  1.94e-11 2.98e-12  2.61e-07     9s\n",
      "  54   2.54169776e+03  2.54168419e+03  6.20e-12 1.03e-14  5.60e-08     9s\n",
      "  55   2.54169186e+03  2.54168967e+03  1.47e-11 7.96e-13  9.07e-09     9s\n",
      "  56   2.54169064e+03  2.54169016e+03  6.86e-12 1.41e-11  1.97e-09     9s\n",
      "  57   2.54169059e+03  2.54169055e+03  7.47e-12 1.07e-14  1.77e-10     9s\n",
      "  58   2.54169059e+03  2.54169059e+03  2.74e-10 6.89e-12  6.17e-12     9s\n",
      "\n",
      "Barrier solved model in 58 iterations and 9.31 seconds\n",
      "Optimal objective 2.54169059e+03\n",
      "\n",
      "\n",
      "Root crossover log...\n",
      "\n",
      "   15601 DPushes remaining with DInf 0.0000000e+00                 9s\n",
      "       0 DPushes remaining with DInf 1.0645310e-03                 9s\n",
      "\n",
      "       4 PPushes remaining with PInf 3.5956791e-06                10s\n",
      "       0 PPushes remaining with PInf 3.5956791e-06                10s\n",
      "\n",
      "  Push phase complete: Pinf 3.5956791e-06, Dinf 4.8259023e-13     10s\n",
      "\n",
      "\n",
      "Root simplex log...\n",
      "\n",
      "Iteration    Objective       Primal Inf.    Dual Inf.      Time\n",
      "   15608    2.5416906e+03   3.595679e-06   0.000000e+00     10s\n",
      "   15611    2.5416906e+03   0.000000e+00   0.000000e+00     10s\n",
      "   15611    2.5416906e+03   0.000000e+00   0.000000e+00     10s\n",
      "\n",
      "Root relaxation: objective 2.541691e+03, 15611 iterations, 6.68 seconds\n",
      "\n",
      "    Nodes    |    Current Node    |     Objective Bounds      |     Work\n",
      " Expl Unexpl |  Obj  Depth IntInf | Incumbent    BestBd   Gap | It/Node Time\n",
      "\n",
      "     0     0 2541.69059    0    1          - 2541.69059      -     -    9s\n",
      "     0     0 2541.69059    0    1          - 2541.69059      -     -    9s\n",
      "     0     2 2541.69059    0    1          - 2541.69059      -     -   10s\n",
      "*    1     0               1    2554.8950726 2544.60982  0.40%   426   10s\n",
      "\n",
      "Explored 3 nodes (16080 simplex iterations) in 10.66 seconds\n",
      "Thread count was 3 (of 4 available processors)\n",
      "\n",
      "Solution count 1: 2554.9 \n",
      "\n",
      "Optimal solution found (tolerance 1.00e-04)\n",
      "Warning: max constraint violation (3.8974e-06) exceeds tolerance\n",
      "Best objective 2.554895072605e+03, best bound 2.554895072605e+03, gap 0.0000%\n",
      "Freed default Gurobi environment\n"
     ]
    }
   ],
   "source": [
    "results_ref = sfh_opt.refCost(solver = 'gurobi')"
   ]
  },
  {
   "cell_type": "markdown",
   "metadata": {},
   "source": [
    "Get min cost"
   ]
  },
  {
   "cell_type": "code",
   "execution_count": 10,
   "metadata": {
    "scrolled": false
   },
   "outputs": [
    {
     "name": "stdout",
     "output_type": "stream",
     "text": [
      "Academic license - for non-commercial use only\n",
      "Changed value of parameter NodeMethod to 1\n",
      "   Prev: -1  Min: -1  Max: 2  Default: -1\n",
      "Changed value of parameter OptimalityTol to 1e-08\n",
      "   Prev: 1e-06  Min: 1e-09  Max: 0.01  Default: 1e-06\n",
      "Changed value of parameter Threads to 3\n",
      "   Prev: 0  Min: 0  Max: 1024  Default: 0\n",
      "Parameter Cuts unchanged\n",
      "   Value: -1  Min: -1  Max: 3  Default: -1\n",
      "Parameter Method unchanged\n",
      "   Value: -1  Min: -1  Max: 5  Default: -1\n",
      "Parameter IntFeasTol unchanged\n",
      "   Value: 1e-05  Min: 1e-09  Max: 0.1  Default: 1e-05\n",
      "Optimize a model with 47299 rows, 27980 columns and 157522 nonzeros\n",
      "Variable types: 27902 continuous, 78 integer (78 binary)\n",
      "Coefficient statistics:\n",
      "  Matrix range     [1e-06, 1e+03]\n",
      "  Objective range  [1e-04, 2e+03]\n",
      "  Bounds range     [1e-04, 1e+01]\n",
      "  RHS range        [4e-05, 4e+01]\n",
      "Presolve removed 22287 rows and 18438 columns\n",
      "Presolve time: 1.44s\n",
      "Presolved: 25012 rows, 9542 columns, 93925 nonzeros\n",
      "Variable types: 9511 continuous, 31 integer (31 binary)\n",
      "\n",
      "Root relaxation: objective 2.525315e+03, 10104 iterations, 2.30 seconds\n",
      "\n",
      "    Nodes    |    Current Node    |     Objective Bounds      |     Work\n",
      " Expl Unexpl |  Obj  Depth IntInf | Incumbent    BestBd   Gap | It/Node Time\n",
      "\n",
      "     0     0 2525.31475    0    1          - 2525.31475      -     -    3s\n",
      "H    0     0                    2531.1000669 2525.31475  0.23%     -    4s\n",
      "     0     0 2525.54809    0    1 2531.10007 2525.54809  0.22%     -    4s\n",
      "     0     0 2525.54809    0    1 2531.10007 2525.54809  0.22%     -    4s\n",
      "     0     0 2529.17343    0    1 2531.10007 2529.17343  0.08%     -    4s\n",
      "     0     0 2529.47887    0    1 2531.10007 2529.47887  0.06%     -    4s\n",
      "     0     0     cutoff    0      2531.10007 2531.10007  0.00%     -    4s\n",
      "\n",
      "Cutting planes:\n",
      "  Gomory: 3\n",
      "  Implied bound: 1\n",
      "  MIR: 35\n",
      "\n",
      "Explored 1 nodes (10966 simplex iterations) in 4.46 seconds\n",
      "Thread count was 3 (of 4 available processors)\n",
      "\n",
      "Solution count 1: 2531.1 \n",
      "\n",
      "Optimal solution found (tolerance 1.00e-04)\n",
      "Best objective 2.531100066932e+03, best bound 2.531100066932e+03, gap 0.0000%\n",
      "Freed default Gurobi environment\n"
     ]
    },
    {
     "name": "stderr",
     "output_type": "stream",
     "text": [
      "/media/leander/D24CB5984CB57835/Users/Leander/everken/05_Repositories/enercore/enercore/results.py:829: FutureWarning: Sorting because non-concatenation axis is not aligned. A future version\n",
      "of pandas will change to not sort by default.\n",
      "\n",
      "To accept the future behavior, pass 'sort=True'.\n",
      "\n",
      "To retain the current behavior and silence the warning, pass sort=False\n",
      "\n",
      "  self.nodes=pd.concat([result.nodes for result in self._reslist], keys=self._paramlist,names=[self._paramname,'Value']).fillna(0.0)\n"
     ]
    },
    {
     "name": "stdout",
     "output_type": "stream",
     "text": [
      "Academic license - for non-commercial use only\n",
      "Changed value of parameter NodeMethod to 1\n",
      "   Prev: -1  Min: -1  Max: 2  Default: -1\n",
      "Changed value of parameter OptimalityTol to 1e-08\n",
      "   Prev: 1e-06  Min: 1e-09  Max: 0.01  Default: 1e-06\n",
      "Changed value of parameter Threads to 3\n",
      "   Prev: 0  Min: 0  Max: 1024  Default: 0\n",
      "Changed value of parameter Cuts to 0\n",
      "   Prev: -1  Min: -1  Max: 3  Default: -1\n",
      "Changed value of parameter Method to 2\n",
      "   Prev: -1  Min: -1  Max: 5  Default: -1\n",
      "Parameter IntFeasTol unchanged\n",
      "   Value: 1e-05  Min: 1e-09  Max: 0.1  Default: 1e-05\n",
      "Optimize a model with 1051333 rows, 683396 columns and 3601196 nonzeros\n",
      "Variable types: 683318 continuous, 78 integer (78 binary)\n",
      "Coefficient statistics:\n",
      "  Matrix range     [5e-08, 1e+03]\n",
      "  Objective range  [1e-04, 2e+03]\n",
      "  Bounds range     [1e-04, 1e+01]\n",
      "  RHS range        [4e-04, 4e+01]\n",
      "Presolve removed 1011131 rows and 652334 columns\n",
      "Presolve time: 2.09s\n",
      "Presolved: 40202 rows, 31062 columns, 114323 nonzeros\n",
      "Variable types: 31062 continuous, 0 integer (0 binary)\n",
      "Presolved: 40202 rows, 31062 columns, 114323 nonzeros\n",
      "\n",
      "Root barrier log...\n",
      "\n",
      "Ordering time: 0.01s\n",
      "\n",
      "Barrier statistics:\n",
      " Dense cols : 5\n",
      " AA' NZ     : 1.029e+05\n",
      " Factor NZ  : 5.155e+05 (roughly 30 MBytes of memory)\n",
      " Factor Ops : 7.506e+06 (less than 1 second per iteration)\n",
      " Threads    : 3\n",
      "\n",
      "                  Objective                Residual\n",
      "Iter       Primal          Dual         Primal    Dual     Compl     Time\n",
      "   0   6.56047066e+04 -6.73477493e+05  3.10e+01 8.92e-02  8.72e+01     3s\n",
      "   1   3.03141991e+04 -4.32989254e+05  9.60e+00 2.34e-01  2.30e+01     3s\n",
      "   2   2.72493869e+04 -2.94114656e+05  7.88e+00 2.82e-03  1.48e+01     3s\n",
      "   3   1.66844141e+04 -1.54785170e+05  3.62e+00 4.97e-13  5.07e+00     3s\n",
      "   4   6.46834268e+03 -5.48119957e+04  3.89e-15 7.24e-10  6.75e-01     3s\n",
      "   5   5.51183676e+03 -4.46972342e+03  6.46e-14 1.17e-10  1.10e-01     3s\n",
      "   6   4.73431614e+03 -7.40093369e+02  4.93e-14 6.13e-11  6.03e-02     3s\n",
      "   7   3.97698650e+03  1.88550896e+03  2.80e-14 1.12e-11  2.31e-02     4s\n",
      "   8   3.77582336e+03  2.02875015e+03  2.40e-14 8.10e-12  1.93e-02     4s\n",
      "   9   3.48061775e+03  2.15794101e+03  3.12e-14 4.98e-12  1.46e-02     4s\n",
      "  10   2.73810607e+03  2.37513504e+03  4.37e-13 7.60e-13  4.00e-03     4s\n",
      "  11   2.61122341e+03  2.43146159e+03  7.36e-13 2.37e-13  1.98e-03     4s\n",
      "  12   2.55479835e+03  2.44603461e+03  6.33e-13 1.71e-13  1.20e-03     4s\n",
      "  13   2.52348424e+03  2.45435453e+03  4.05e-13 7.49e-14  7.62e-04     4s\n",
      "  14   2.50326866e+03  2.45949351e+03  2.99e-12 4.81e-14  4.82e-04     4s\n",
      "  15   2.48592821e+03  2.46607237e+03  1.28e-12 1.56e-13  2.19e-04     4s\n",
      "  16   2.47631749e+03  2.46802789e+03  1.75e-12 2.84e-14  9.14e-05     4s\n",
      "  17   2.47205849e+03  2.46883617e+03  1.87e-12 1.63e-15  3.55e-05     4s\n",
      "  18   2.47152922e+03  2.46900053e+03  2.34e-12 1.44e-15  2.79e-05     4s\n",
      "  19   2.47055838e+03  2.46930617e+03  2.81e-12 4.26e-14  1.38e-05     4s\n",
      "  20   2.47006960e+03  2.46940044e+03  9.58e-12 5.68e-14  7.38e-06     4s\n",
      "  21   2.46969903e+03  2.46942614e+03  3.47e-11 1.07e-15  3.01e-06     4s\n",
      "  22   2.46953531e+03  2.46949829e+03  5.43e-12 4.44e-16  4.08e-07     4s\n",
      "  23   2.46952094e+03  2.46950991e+03  2.69e-12 1.22e-15  1.22e-07     4s\n",
      "  24   2.46952214e+03  2.46951139e+03  4.04e-12 1.17e-15  1.19e-07     4s\n",
      "  25   2.46951608e+03  2.46951147e+03  2.23e-11 1.44e-15  5.08e-08     4s\n",
      "  26   2.46951525e+03  2.46951153e+03  5.01e-12 2.44e-15  4.11e-08     4s\n",
      "  27   2.46951300e+03  2.46951223e+03  1.66e-11 1.25e-12  8.48e-09     4s\n",
      "  28   2.46951293e+03  2.46951292e+03  1.93e-12 6.94e-16  4.15e-11     4s\n",
      "\n",
      "Barrier solved model in 28 iterations and 4.16 seconds\n",
      "Optimal objective 2.46951293e+03\n",
      "\n",
      "\n",
      "Root relaxation: objective 2.469513e+03, 805 iterations, 1.12 seconds\n",
      "\n",
      "    Nodes    |    Current Node    |     Objective Bounds      |     Work\n",
      " Expl Unexpl |  Obj  Depth IntInf | Incumbent    BestBd   Gap | It/Node Time\n",
      "\n",
      "*    0     0               0    2469.5129225 2469.51292  0.00%     -    4s\n",
      "\n",
      "Explored 0 nodes (805 simplex iterations) in 4.42 seconds\n",
      "Thread count was 3 (of 4 available processors)\n",
      "\n",
      "Solution count 1: 2469.51 \n",
      "\n",
      "Optimal solution found (tolerance 1.00e-04)\n",
      "Best objective 2.469512922520e+03, best bound 2.469512922520e+03, gap 0.0000%\n",
      "Freed default Gurobi environment\n",
      "Optimization duration: 204.38673067092896\n"
     ]
    }
   ],
   "source": [
    "results_min = sfh_opt.minCost(solver = 'gurobi')"
   ]
  },
  {
   "cell_type": "markdown",
   "metadata": {},
   "source": [
    "Get min CO2"
   ]
  },
  {
   "cell_type": "code",
   "execution_count": 11,
   "metadata": {},
   "outputs": [
    {
     "name": "stdout",
     "output_type": "stream",
     "text": [
      "Period Cost get round for their constraint due to performance issues.\n",
      "Academic license - for non-commercial use only\n",
      "Changed value of parameter NodeMethod to 1\n",
      "   Prev: -1  Min: -1  Max: 2  Default: -1\n",
      "Changed value of parameter OptimalityTol to 1e-08\n",
      "   Prev: 1e-06  Min: 1e-09  Max: 0.01  Default: 1e-06\n",
      "Changed value of parameter Threads to 3\n",
      "   Prev: 0  Min: 0  Max: 1024  Default: 0\n",
      "Parameter Cuts unchanged\n",
      "   Value: -1  Min: -1  Max: 3  Default: -1\n",
      "Parameter Method unchanged\n",
      "   Value: -1  Min: -1  Max: 5  Default: -1\n",
      "Parameter IntFeasTol unchanged\n",
      "   Value: 1e-05  Min: 1e-09  Max: 0.1  Default: 1e-05\n",
      "Optimize a model with 47300 rows, 27980 columns and 164279 nonzeros\n",
      "Variable types: 27902 continuous, 78 integer (78 binary)\n",
      "Coefficient statistics:\n",
      "  Matrix range     [1e-06, 2e+03]\n",
      "  Objective range  [7e-02, 3e+01]\n",
      "  Bounds range     [1e-04, 1e+01]\n",
      "  RHS range        [4e-05, 3e+03]\n",
      "Presolve removed 24692 rows and 18788 columns\n",
      "Presolve time: 1.53s\n",
      "Presolved: 22608 rows, 9192 columns, 85959 nonzeros\n",
      "Variable types: 9170 continuous, 22 integer (22 binary)\n",
      "\n",
      "Root simplex log...\n",
      "\n",
      "Iteration    Objective       Primal Inf.    Dual Inf.      Time\n",
      "    9651    4.4974691e+03   3.483268e+04   0.000000e+00      5s\n",
      "   13517    6.1207684e+03   0.000000e+00   0.000000e+00      8s\n",
      "\n",
      "Root relaxation: objective 6.120768e+03, 13517 iterations, 6.27 seconds\n",
      "\n",
      "    Nodes    |    Current Node    |     Objective Bounds      |     Work\n",
      " Expl Unexpl |  Obj  Depth IntInf | Incumbent    BestBd   Gap | It/Node Time\n",
      "\n",
      "     0     0 6120.76845    0    9          - 6120.76845      -     -    8s\n",
      "H    0     0                    6590.0564581 6120.76845  7.12%     -    8s\n",
      "     0     0 6216.64487    0    7 6590.05646 6216.64487  5.67%     -    9s\n",
      "     0     0 6221.54892    0    7 6590.05646 6221.54892  5.59%     -   10s\n",
      "     0     0 6239.96121    0    7 6590.05646 6239.96121  5.31%     -   10s\n",
      "     0     0 6240.14762    0    7 6590.05646 6240.14762  5.31%     -   10s\n",
      "     0     0 6240.20104    0    7 6590.05646 6240.20104  5.31%     -   10s\n",
      "     0     0 6240.25513    0    7 6590.05646 6240.25513  5.31%     -   10s\n",
      "     0     0 6240.31051    0    7 6590.05646 6240.31051  5.31%     -   11s\n",
      "     0     0 6240.76512    0    7 6590.05646 6240.76512  5.30%     -   11s\n",
      "     0     0 6240.81917    0    7 6590.05646 6240.81917  5.30%     -   11s\n",
      "     0     0 6240.87793    0    7 6590.05646 6240.87793  5.30%     -   11s\n",
      "     0     0 6240.93413    0    7 6590.05646 6240.93413  5.30%     -   11s\n",
      "     0     0 6240.98335    0    7 6590.05646 6240.98335  5.30%     -   11s\n",
      "     0     0 6241.03469    0    7 6590.05646 6241.03469  5.30%     -   11s\n",
      "     0     0 6241.23191    0    7 6590.05646 6241.23191  5.29%     -   11s\n",
      "     0     0 6241.28950    0    7 6590.05646 6241.28950  5.29%     -   11s\n",
      "     0     0 6241.49239    0    7 6590.05646 6241.49239  5.29%     -   11s\n",
      "     0     0 6242.89966    0    9 6590.05646 6242.89966  5.27%     -   11s\n",
      "     0     0 6243.44013    0    9 6590.05646 6243.44013  5.26%     -   11s\n",
      "     0     0 6243.74049    0    9 6590.05646 6243.74049  5.26%     -   11s\n",
      "     0     0 6243.86926    0    9 6590.05646 6243.86926  5.25%     -   11s\n",
      "     0     0 6244.04416    0    9 6590.05646 6244.04416  5.25%     -   11s\n",
      "     0     0 6244.28007    0    9 6590.05646 6244.28007  5.25%     -   11s\n",
      "     0     0 6244.50740    0    9 6590.05646 6244.50740  5.24%     -   11s\n",
      "     0     0 6244.60554    0    9 6590.05646 6244.60554  5.24%     -   11s\n",
      "     0     0 6244.83040    0    9 6590.05646 6244.83040  5.24%     -   11s\n",
      "     0     0 6244.87156    0    9 6590.05646 6244.87156  5.24%     -   11s\n",
      "     0     0 6244.91260    0    9 6590.05646 6244.91260  5.24%     -   11s\n",
      "     0     0 6245.06514    0    9 6590.05646 6245.06514  5.24%     -   11s\n",
      "     0     0 6245.16160    0    9 6590.05646 6245.16160  5.23%     -   11s\n",
      "     0     0 6245.25849    0    9 6590.05646 6245.25849  5.23%     -   11s\n",
      "     0     0 6245.35364    0    9 6590.05646 6245.35364  5.23%     -   12s\n",
      "     0     0 6245.40267    0    9 6590.05646 6245.40267  5.23%     -   12s\n",
      "     0     0 6245.41337    0    9 6590.05646 6245.41337  5.23%     -   12s\n",
      "     0     0 6248.32643    0    8 6590.05646 6248.32643  5.19%     -   12s\n",
      "     0     0 6248.50913    0    9 6590.05646 6248.50913  5.18%     -   12s\n",
      "     0     0 6248.53141    0    9 6590.05646 6248.53141  5.18%     -   12s\n",
      "     0     0 6249.67849    0    8 6590.05646 6249.67849  5.17%     -   12s\n",
      "     0     0 6249.69178    0    8 6590.05646 6249.69178  5.16%     -   12s\n",
      "     0     0 6249.70704    0    8 6590.05646 6249.70704  5.16%     -   13s\n",
      "     0     0 6249.74034    0    8 6590.05646 6249.74034  5.16%     -   13s\n",
      "     0     0 6249.74947    0    8 6590.05646 6249.74947  5.16%     -   13s\n",
      "     0     0 6249.75095    0    8 6590.05646 6249.75095  5.16%     -   13s\n",
      "     0     0 6249.77564    0    8 6590.05646 6249.77564  5.16%     -   13s\n",
      "     0     0 6249.77564    0    8 6590.05646 6249.77564  5.16%     -   13s\n",
      "     0     0 6401.91879    0    4 6590.05646 6401.91879  2.85%     -   18s\n",
      "     0     0 6422.85499    0    3 6590.05646 6422.85499  2.54%     -   19s\n",
      "     0     0 6423.81732    0    3 6590.05646 6423.81732  2.52%     -   19s\n",
      "     0     0 6423.94914    0    3 6590.05646 6423.94914  2.52%     -   19s\n",
      "     0     0 6424.11432    0    3 6590.05646 6424.11432  2.52%     -   19s\n",
      "     0     0 6424.23948    0    3 6590.05646 6424.23948  2.52%     -   20s\n",
      "     0     0 6514.68682    0    1 6590.05646 6514.68682  1.14%     -   20s\n",
      "     0     0     cutoff    0      6590.05646 6590.05646  0.00%     -   20s\n",
      "\n",
      "Cutting planes:\n",
      "  Implied bound: 44\n",
      "  MIR: 19\n",
      "  Flow cover: 11\n",
      "\n",
      "Explored 1 nodes (24102 simplex iterations) in 20.82 seconds\n",
      "Thread count was 3 (of 4 available processors)\n",
      "\n",
      "Solution count 1: 6590.06 \n",
      "\n",
      "Optimal solution found (tolerance 1.00e-04)\n",
      "Best objective 6.590056458093e+03, best bound 6.590056458093e+03, gap 0.0000%\n",
      "Freed default Gurobi environment\n"
     ]
    },
    {
     "name": "stderr",
     "output_type": "stream",
     "text": [
      "/media/leander/D24CB5984CB57835/Users/Leander/everken/05_Repositories/enercore/enercore/energysystem.py:1440: UserWarning: AC Node run in BigM constraint. The result can be not the optimal one. Increase the \"BigM\" value\n",
      "  'the \"BigM\" value', UserWarning)\n",
      "/media/leander/D24CB5984CB57835/Users/Leander/everken/05_Repositories/enercore/enercore/energysystem.py:1440: UserWarning: HNode 50.0 run in BigM constraint. The result can be not the optimal one. Increase the \"BigM\" value\n",
      "  'the \"BigM\" value', UserWarning)\n",
      "/media/leander/D24CB5984CB57835/Users/Leander/everken/05_Repositories/enercore/enercore/energysystem.py:1440: UserWarning: Environment run in BigM constraint. The result can be not the optimal one. Increase the \"BigM\" value\n",
      "  'the \"BigM\" value', UserWarning)\n",
      "/media/leander/D24CB5984CB57835/Users/Leander/everken/05_Repositories/enercore/enercore/energysystem.py:1440: UserWarning: Cool supply run in BigM constraint. The result can be not the optimal one. Increase the \"BigM\" value\n",
      "  'the \"BigM\" value', UserWarning)\n",
      "/media/leander/D24CB5984CB57835/Users/Leander/everken/05_Repositories/enercore/enercore/energysystem.py:1440: UserWarning: Gas supply run in BigM constraint. The result can be not the optimal one. Increase the \"BigM\" value\n",
      "  'the \"BigM\" value', UserWarning)\n",
      "/media/leander/D24CB5984CB57835/Users/Leander/everken/05_Repositories/enercore/enercore/energysystem.py:1440: UserWarning: Oil supply run in BigM constraint. The result can be not the optimal one. Increase the \"BigM\" value\n",
      "  'the \"BigM\" value', UserWarning)\n",
      "/media/leander/D24CB5984CB57835/Users/Leander/everken/05_Repositories/enercore/enercore/energysystem.py:1440: UserWarning: Pellet supply run in BigM constraint. The result can be not the optimal one. Increase the \"BigM\" value\n",
      "  'the \"BigM\" value', UserWarning)\n",
      "/media/leander/D24CB5984CB57835/Users/Leander/everken/05_Repositories/enercore/enercore/energysystem.py:1440: UserWarning: FiTCHP run in BigM constraint. The result can be not the optimal one. Increase the \"BigM\" value\n",
      "  'the \"BigM\" value', UserWarning)\n",
      "/media/leander/D24CB5984CB57835/Users/Leander/everken/05_Repositories/enercore/enercore/energysystem.py:1440: UserWarning: HNode 41.666666666666664 run in BigM constraint. The result can be not the optimal one. Increase the \"BigM\" value\n",
      "  'the \"BigM\" value', UserWarning)\n",
      "/media/leander/D24CB5984CB57835/Users/Leander/everken/05_Repositories/enercore/enercore/energysystem.py:1440: UserWarning: HNode 33.33333333333333 run in BigM constraint. The result can be not the optimal one. Increase the \"BigM\" value\n",
      "  'the \"BigM\" value', UserWarning)\n",
      "/media/leander/D24CB5984CB57835/Users/Leander/everken/05_Repositories/enercore/enercore/energysystem.py:1440: UserWarning: Heat pump 50.0 run in BigM constraint. The result can be not the optimal one. Increase the \"BigM\" value\n",
      "  'the \"BigM\" value', UserWarning)\n",
      "/media/leander/D24CB5984CB57835/Users/Leander/everken/05_Repositories/enercore/enercore/energysystem.py:1440: UserWarning: Heat pump 41.666666666666664 run in BigM constraint. The result can be not the optimal one. Increase the \"BigM\" value\n",
      "  'the \"BigM\" value', UserWarning)\n",
      "/media/leander/D24CB5984CB57835/Users/Leander/everken/05_Repositories/enercore/enercore/energysystem.py:1440: UserWarning: Heat pump 33.33333333333333 run in BigM constraint. The result can be not the optimal one. Increase the \"BigM\" value\n",
      "  'the \"BigM\" value', UserWarning)\n",
      "/media/leander/D24CB5984CB57835/Users/Leander/everken/05_Repositories/enercore/enercore/results.py:829: FutureWarning: Sorting because non-concatenation axis is not aligned. A future version\n",
      "of pandas will change to not sort by default.\n",
      "\n",
      "To accept the future behavior, pass 'sort=True'.\n",
      "\n",
      "To retain the current behavior and silence the warning, pass sort=False\n",
      "\n",
      "  self.nodes=pd.concat([result.nodes for result in self._reslist], keys=self._paramlist,names=[self._paramname,'Value']).fillna(0.0)\n"
     ]
    },
    {
     "name": "stdout",
     "output_type": "stream",
     "text": [
      "Period Cost get round for their constraint due to performance issues.\n",
      "Academic license - for non-commercial use only\n",
      "Changed value of parameter NodeMethod to 1\n",
      "   Prev: -1  Min: -1  Max: 2  Default: -1\n",
      "Changed value of parameter OptimalityTol to 1e-08\n",
      "   Prev: 1e-06  Min: 1e-09  Max: 0.01  Default: 1e-06\n",
      "Changed value of parameter Threads to 3\n",
      "   Prev: 0  Min: 0  Max: 1024  Default: 0\n",
      "Changed value of parameter Cuts to 0\n",
      "   Prev: -1  Min: -1  Max: 3  Default: -1\n",
      "Changed value of parameter Method to 2\n",
      "   Prev: -1  Min: -1  Max: 5  Default: -1\n",
      "Parameter IntFeasTol unchanged\n",
      "   Value: 1e-05  Min: 1e-09  Max: 0.1  Default: 1e-05\n",
      "Optimize a model with 1051334 rows, 683396 columns and 3776433 nonzeros\n",
      "Variable types: 683318 continuous, 78 integer (78 binary)\n",
      "Coefficient statistics:\n",
      "  Matrix range     [5e-08, 2e+03]\n",
      "  Objective range  [1e-02, 5e-01]\n",
      "  Bounds range     [1e-04, 1e+01]\n",
      "  RHS range        [4e-04, 3e+03]\n",
      "Presolve removed 1030299 rows and 652278 columns\n",
      "Presolve time: 2.95s\n",
      "Presolved: 21035 rows, 31118 columns, 94212 nonzeros\n",
      "Variable types: 31118 continuous, 0 integer (0 binary)\n",
      "Presolved: 21035 rows, 31118 columns, 94212 nonzeros\n",
      "\n",
      "Root barrier log...\n",
      "\n",
      "Ordering time: 0.00s\n",
      "\n",
      "Barrier statistics:\n",
      " Dense cols : 1\n",
      " AA' NZ     : 7.119e+04\n",
      " Factor NZ  : 2.193e+05 (roughly 23 MBytes of memory)\n",
      " Factor Ops : 2.887e+06 (less than 1 second per iteration)\n",
      " Threads    : 3\n",
      "\n",
      "                  Objective                Residual\n",
      "Iter       Primal          Dual         Primal    Dual     Compl     Time\n",
      "   0   1.52191843e+06 -2.62883310e+06  3.02e+04 2.66e-01  3.05e+03     4s\n",
      "   1   8.97196324e+05 -2.69743075e+06  1.78e+04 1.05e+00  1.63e+03     4s\n",
      "   2   7.41258208e+04 -3.18546848e+06  1.33e+03 2.69e-14  1.67e+02     4s\n",
      "   3   1.44692257e+04 -1.51984875e+06  1.50e+02 2.41e-11  3.23e+01     4s\n",
      "   4   8.86184774e+03 -3.01291654e+05  3.26e+01 4.65e-12  5.74e+00     4s\n",
      "   5   8.26121399e+03 -1.08026826e+05  2.24e+01 5.51e-13  2.46e+00     4s\n",
      "   6   7.74242818e+03 -6.15495457e+04  1.51e+01 1.46e-12  1.48e+00     4s\n",
      "   7   7.25688335e+03 -2.16072256e+04  8.11e+00 3.84e-13  6.25e-01     4s\n",
      "   8   6.90060287e+03 -9.63996577e+03  3.31e+00 2.65e-14  2.99e-01     4s\n",
      "   9   6.73509182e+03 -3.24082709e+02  1.58e+00 1.65e-12  1.16e-01     4s\n",
      "  10   6.57782854e+03  2.58231603e+03  8.47e-01 1.57e-13  6.14e-02     4s\n",
      "  11   6.47856070e+03  3.70477163e+03  5.14e-01 1.19e-13  4.12e-02     4s\n",
      "  12   6.42279288e+03  4.23385757e+03  3.66e-01 8.50e-15  3.19e-02     4s\n",
      "  13   6.40287236e+03  4.55474230e+03  3.17e-01 6.85e-15  2.68e-02     4s\n",
      "  14   6.38226932e+03  4.94532362e+03  2.66e-01 5.79e-15  2.07e-02     4s\n",
      "  15   6.35375015e+03  5.15836475e+03  2.13e-01 5.07e-15  1.71e-02     4s\n",
      "  16   6.33076641e+03  5.40203642e+03  1.84e-01 2.25e-14  1.32e-02     4s\n",
      "  17   6.31604293e+03  5.45504333e+03  1.69e-01 3.11e-15  1.23e-02     4s\n",
      "  18   6.30566638e+03  5.49709180e+03  1.55e-01 3.69e-15  1.15e-02     4s\n",
      "  19   6.30392391e+03  5.51290053e+03  1.53e-01 3.92e-15  1.12e-02     5s\n",
      "  20   6.27373184e+03  5.56664758e+03  1.30e-01 3.56e-15  1.00e-02     5s\n",
      "  21   6.24512766e+03  5.71183242e+03  1.09e-01 9.22e-15  7.55e-03     5s\n",
      "  22   6.21757395e+03  5.76052319e+03  8.81e-02 2.62e-15  6.46e-03     5s\n",
      "  23   6.18718332e+03  5.78726772e+03  6.85e-02 2.38e-15  5.64e-03     5s\n",
      "  24   6.18518366e+03  5.82517631e+03  6.43e-02 1.12e-14  5.07e-03     5s\n",
      "  25   6.15611666e+03  5.83336878e+03  4.87e-02 2.44e-15  4.54e-03     5s\n",
      "  26   6.14524657e+03  5.85548606e+03  4.35e-02 1.15e-14  4.08e-03     5s\n",
      "  27   6.13467508e+03  5.93630979e+03  3.87e-02 1.32e-15  2.79e-03     5s\n",
      "  28   6.12577147e+03  5.95544936e+03  3.48e-02 1.51e-15  2.40e-03     5s\n",
      "  29   6.08868227e+03  5.99543172e+03  1.78e-02 1.64e-15  1.31e-03     5s\n",
      "  30   6.07158674e+03  6.02140829e+03  1.04e-02 1.32e-15  7.07e-04     5s\n",
      "  31   6.05447706e+03  6.03526665e+03  2.91e-03 1.10e-15  2.70e-04     5s\n",
      "  32   6.05094481e+03  6.04289843e+03  1.46e-03 1.42e-15  1.13e-04     5s\n",
      "  33   6.04918263e+03  6.04447937e+03  7.60e-04 1.51e-15  6.61e-05     5s\n",
      "  34   6.04827892e+03  6.04506272e+03  3.99e-04 7.11e-15  4.51e-05     5s\n",
      "  35   6.04783251e+03  6.04589611e+03  2.33e-04 1.33e-15  2.72e-05     5s\n",
      "  36   6.04760830e+03  6.04664670e+03  1.47e-04 7.11e-15  1.35e-05     5s\n",
      "  37   6.04742629e+03  6.04675525e+03  8.08e-05 7.11e-15  9.41e-06     5s\n",
      "  38   6.04729676e+03  6.04691239e+03  3.57e-05 7.11e-15  5.39e-06     5s\n",
      "  39   6.04725509e+03  6.04703870e+03  2.19e-05 1.12e-15  3.03e-06     5s\n",
      "  40   6.04723064e+03  6.04710175e+03  1.41e-05 1.13e-15  1.81e-06     5s\n",
      "  41   6.04720305e+03  6.04713904e+03  5.37e-06 1.20e-15  8.96e-07     5s\n",
      "  42   6.04719575e+03  6.04716589e+03  3.25e-06 1.11e-15  4.19e-07     5s\n",
      "  43   6.04719046e+03  6.04717276e+03  1.74e-06 1.17e-15  2.48e-07     5s\n",
      "  44   6.04718829e+03  6.04717590e+03  1.13e-06 1.32e-15  1.74e-07     5s\n",
      "  45   6.04718678e+03  6.04717906e+03  7.14e-07 7.11e-15  1.08e-07     5s\n",
      "  46   6.04718574e+03  6.04718186e+03  4.30e-07 1.08e-15  5.44e-08     5s\n",
      "  47   6.04718495e+03  6.04718282e+03  2.16e-07 1.26e-15  2.99e-08     5s\n",
      "  48   6.04718436e+03  6.04718315e+03  6.13e-08 1.07e-15  1.68e-08     5s\n",
      "  49   6.04718426e+03  6.04718354e+03  3.52e-08 1.02e-15  9.95e-09     5s\n",
      "  50   6.04718419e+03  6.04718393e+03  1.99e-08 1.33e-15  3.63e-09     5s\n",
      "  51   6.04718413e+03  6.04718405e+03  6.10e-09 1.48e-15  1.18e-09     5s\n",
      "  52   6.04718412e+03  6.04718407e+03  2.53e-09 1.09e-15  6.23e-10     5s\n",
      "  53   6.04718411e+03  6.04718409e+03  1.32e-09 1.09e-15  3.41e-10     5s\n",
      "\n",
      "Barrier solved model in 53 iterations and 5.29 seconds\n",
      "Optimal objective 6.04718411e+03\n",
      "\n",
      "\n",
      "Root crossover log...\n",
      "\n",
      "     783 DPushes remaining with DInf 0.0000000e+00                 5s\n",
      "       0 DPushes remaining with DInf 1.0834331e-12                 5s\n",
      "\n",
      "    1607 PPushes remaining with PInf 0.0000000e+00                 5s\n",
      "       0 PPushes remaining with PInf 0.0000000e+00                 6s\n",
      "\n",
      "  Push phase complete: Pinf 0.0000000e+00, Dinf 1.1132902e-06      6s\n",
      "\n",
      "\n",
      "Root simplex log...\n",
      "\n",
      "Iteration    Objective       Primal Inf.    Dual Inf.      Time\n",
      "    2393    6.0471841e+03   0.000000e+00   2.496050e-06      6s\n",
      "    2407    6.0471841e+03   0.000000e+00   0.000000e+00      6s\n",
      "    2407    6.0471841e+03   0.000000e+00   0.000000e+00      6s\n",
      "\n",
      "Root relaxation: objective 6.047184e+03, 2407 iterations, 1.55 seconds\n",
      "\n",
      "    Nodes    |    Current Node    |     Objective Bounds      |     Work\n",
      " Expl Unexpl |  Obj  Depth IntInf | Incumbent    BestBd   Gap | It/Node Time\n",
      "\n",
      "*    0     0               0    6047.1841021 6047.18410  0.00%     -    5s\n",
      "\n",
      "Explored 0 nodes (2407 simplex iterations) in 5.71 seconds\n",
      "Thread count was 3 (of 4 available processors)\n",
      "\n",
      "Solution count 1: 6047.18 \n",
      "\n",
      "Optimal solution found (tolerance 1.00e-04)\n",
      "Best objective 6.047184102081e+03, best bound 6.047184102081e+03, gap 0.0000%\n",
      "Freed default Gurobi environment\n"
     ]
    },
    {
     "name": "stderr",
     "output_type": "stream",
     "text": [
      "/media/leander/D24CB5984CB57835/Users/Leander/everken/05_Repositories/enercore/enercore/energysystem.py:1440: UserWarning: Electricity supply run in BigM constraint. The result can be not the optimal one. Increase the \"BigM\" value\n",
      "  'the \"BigM\" value', UserWarning)\n"
     ]
    }
   ],
   "source": [
    "results_co2 = sfh_opt.minCO2(solver = 'gurobi')"
   ]
  },
  {
   "cell_type": "markdown",
   "metadata": {},
   "source": [
    "### 2. Run the optimization"
   ]
  },
  {
   "cell_type": "markdown",
   "metadata": {},
   "source": [
    "Plot reference results"
   ]
  },
  {
   "cell_type": "code",
   "execution_count": 12,
   "metadata": {},
   "outputs": [],
   "source": [
    "components = ['FiTPV','Electricity supply','Gas supply', 'Gas boiler', 'HP Tarif','Heat pump',\n",
    "              'ElectricHeater','Photovoltaic 1', 'Battery']"
   ]
  },
  {
   "cell_type": "code",
   "execution_count": 13,
   "metadata": {
    "scrolled": false
   },
   "outputs": [
    {
     "name": "stderr",
     "output_type": "stream",
     "text": [
      "/media/leander/D24CB5984CB57835/Users/Leander/everken/05_Repositories/enercore/enercore/results.py:829: FutureWarning: Sorting because non-concatenation axis is not aligned. A future version\n",
      "of pandas will change to not sort by default.\n",
      "\n",
      "To accept the future behavior, pass 'sort=True'.\n",
      "\n",
      "To retain the current behavior and silence the warning, pass sort=False\n",
      "\n",
      "  self.nodes=pd.concat([result.nodes for result in self._reslist], keys=self._paramlist,names=[self._paramname,'Value']).fillna(0.0)\n",
      "/home/leander/anaconda3/lib/python3.6/site-packages/matplotlib/font_manager.py:1328: UserWarning: findfont: Font family ['Arial'] not found. Falling back to DejaVu Sans\n",
      "  (prop.get_family(), self.defaultFamily[fontext]))\n",
      "/home/leander/anaconda3/lib/python3.6/site-packages/matplotlib/figure.py:2267: UserWarning: This figure includes Axes that are not compatible with tight_layout, so results might be incorrect.\n",
      "  warnings.warn(\"This figure includes Axes that are not compatible \"\n"
     ]
    },
    {
     "data": {
      "image/png": "[encoded data removed]",
      "text/plain": [
       "<Figure size 432x288 with 1 Axes>"
      ]
     },
     "metadata": {},
     "output_type": "display_data"
    }
   ],
   "source": [
    "paraResults_ref = res.ParamVarResultManager(paramname = '', colordictionary = bopt.BuildingOpt.COLOR_DICT, \n",
    "                                        results = [results_ref, results_min, results_co2])\n",
    "ax = plt.subplot(1,1,1)\n",
    "paraResults_ref.plotNodeRes(parameters=['Annual Cost'], \n",
    "              plottype='bar',ylabel='Annual Cost [eur/a]',stacked=True, linewidth=0, labelrotation=30,\n",
    "                    showValues = False,ax = ax)"
   ]
  },
  {
   "cell_type": "code",
   "execution_count": null,
   "metadata": {},
   "outputs": [],
   "source": []
  }
 ],
 "metadata": {
  "kernelspec": {
   "display_name": "Python 3",
   "language": "python",
   "name": "python3"
  },
  "language_info": {
   "codemirror_mode": {
    "name": "ipython",
    "version": 3
   },
   "file_extension": ".py",
   "mimetype": "text/x-python",
   "name": "python",
   "nbconvert_exporter": "python",
   "pygments_lexer": "ipython3",
   "version": "3.6.5"
  }
 },
 "nbformat": 4,
 "nbformat_minor": 2
}
